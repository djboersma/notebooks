{
 "cells": [
  {
   "cell_type": "markdown",
   "metadata": {},
   "source": [
    "# Prototyping/developing a class to extract ROIs (from DICOM) and use them"
   ]
  },
  {
   "cell_type": "code",
   "execution_count": 1,
   "metadata": {
    "collapsed": false
   },
   "outputs": [
    {
     "name": "stdout",
     "output_type": "stream",
     "text": [
      "Populating the interactive namespace from numpy and matplotlib\n"
     ]
    }
   ],
   "source": [
    "%pylab --no-import-all inline"
   ]
  },
  {
   "cell_type": "code",
   "execution_count": 2,
   "metadata": {
    "collapsed": true
   },
   "outputs": [],
   "source": [
    "import dicom\n",
    "import os, sys\n",
    "import SimpleITK as sitk"
   ]
  },
  {
   "cell_type": "code",
   "execution_count": 3,
   "metadata": {
    "collapsed": false
   },
   "outputs": [],
   "source": [
    "dicomdir=os.environ.get('DICOM_DIRECTORY',os.curdir)\n",
    "ss=dicom.read_file(os.path.join(dicomdir,'DICOM_4D_STUDIE/53_SHORT/STRUCTURESET.dcm'))"
   ]
  },
  {
   "cell_type": "code",
   "execution_count": 4,
   "metadata": {
    "collapsed": false
   },
   "outputs": [
    {
     "name": "stdout",
     "output_type": "stream",
     "text": [
      "16\n",
      "16\n",
      "37 37\n",
      "16\n",
      "SEMIAUTOMATIC\n",
      "16 16 aortaklaff\n",
      "1 1 CTV\n",
      "20 20 CTV 0\n",
      "26 26 CTV+ITV\n",
      "21 21 CTV20\n",
      "18 18 CTV50\n",
      "19 19 CTV80\n",
      "17 17 CTVMIP\n",
      "4 4 Esophagus\n",
      "33 33 Esophagus_4D\n",
      "10 10 External\n",
      "28 28 External_4D\n",
      "9 9 Heart\n",
      "31 31 Heart_4D\n",
      "27 27 Help_ring\n",
      "35 35 högdens\n",
      "34 34 ITV_-24mm_cran\n",
      "24 24 ITV0+20+50+80+MI\n",
      "22 22 ITV0+50\n",
      "23 23 ITV0+50+MIP\n",
      "14 14 kranskärlsavgång\n",
      "11 11 Lung_L\n",
      "29 29 Lung_L_4D\n",
      "12 12 Lung_R\n",
      "30 30 Lung_R_4D\n",
      "13 13 Lung_total\n",
      "2 2 PTV\n",
      "3 3 PTV_external\n",
      "25 25 PTV_ITV+7\n",
      "15 15 pulmonalisklaff\n",
      "8 8 SpinalCord\n",
      "32 32 SpinalCord_4D\n",
      "6 6 Submandibular_L\n",
      "7 7 Submandibular_R\n",
      "5 5 Thyroid\n",
      "36 36 help_ptv_long\n",
      "37 37 help_ptv_short\n"
     ]
    }
   ],
   "source": [
    "roi0=ss.ROIContourSequence[0]\n",
    "print(roi0.ReferencedROINumber)\n",
    "print(roi0.RefdROINumber)\n",
    "print(\"{} {}\".format(len(ss.ROIContourSequence),len(ss.StructureSetROISequence)))\n",
    "ssroi0=ss.StructureSetROISequence[0]\n",
    "print ssroi0.ROINumber\n",
    "print ssroi0.ROIGenerationAlgorithm\n",
    "#print(len(ssroi0.ROIContourSequence))\n",
    "for roi,ssroi in zip(ss.ROIContourSequence,ss.StructureSetROISequence):\n",
    "    print(\"{} {} {}\".format(roi.RefdROINumber,ssroi.ROINumber,ssroi.ROIName))"
   ]
  },
  {
   "cell_type": "code",
   "execution_count": 5,
   "metadata": {
    "collapsed": false
   },
   "outputs": [
    {
     "name": "stdout",
     "output_type": "stream",
     "text": [
      "[1, 2, 3, 4, 5, 6, 7, 8, 9, 10, 11, 12, 13, 14, 15, 16, 17, 18, 19, 20, 21, 22, 23, 24, 25, 26, 27, 28, 29, 30, 31, 32, 33, 34, 35, 36, 37]\n"
     ]
    }
   ],
   "source": [
    "print sorted([int(roi.RefdROINumber) for roi in ss.ROIContourSequence])"
   ]
  },
  {
   "cell_type": "code",
   "execution_count": 6,
   "metadata": {
    "collapsed": false
   },
   "outputs": [
    {
     "name": "stdout",
     "output_type": "stream",
     "text": [
      "(1, 58, 14418, '150=150', ['255', '0', '0'])\n",
      "(2, 64, 24918, '210=210', ['255', '0', '255'])\n",
      "(3, 64, 24522, '210=210', ['255', '0', '255'])\n",
      "(4, 68, 4734, '90=90', ['218', '165', '32'])\n",
      "(5, 10, 2214, '156=156', ['0', '108', '0'])\n",
      "(6, 8, 852, '78=78', ['0', '108', '0'])\n",
      "(7, 8, 894, '78=78', ['0', '108', '0'])\n",
      "(8, 70, 4878, '78=78', ['128', '64', '64'])\n",
      "(9, 27, 12450, '378=378', ['192', '0', '192'])\n",
      "(10, 144, 209214, '1872=1872', ['255', '192', '128'])\n",
      "(11, 72, 40968, '312=312', ['64', '224', '208'])\n",
      "(12, 70, 45084, '138=138', ['0', '128', '0'])\n",
      "(13, 78, 44568, '312=312', ['123', '123', '192'])\n",
      "(14, 9, 1860, '204=204', ['0', '85', '0'])\n",
      "(15, 3, 402, '126=126', ['0', '200', '255'])\n",
      "(16, 3, 408, '144=144', ['0', '200', '255'])\n",
      "(17, 38, 10266, '150=150', ['0', '200', '255'])\n",
      "(18, 38, 10698, '168=168', ['255', '0', '0'])\n",
      "(19, 38, 10422, '186=186', ['0', '200', '255'])\n",
      "(20, 40, 10740, '132=132', ['0', '200', '255'])\n",
      "(21, 39, 10560, '150=150', ['0', '200', '255'])\n",
      "(22, 40, 11160, '132=132', ['255', '128', '128'])\n",
      "(23, 40, 11292, '132=132', ['255', '128', '128'])\n",
      "(24, 40, 11358, '132=132', ['255', '128', '128'])\n",
      "(25, 63, 22206, '180=180', ['255', '128', '192'])\n",
      "(26, 59, 15072, '132=132', ['255', '0', '0'])\n",
      "(27, 144, 74232, '204=204', ['255', '255', '0'])\n",
      "(28, 98, 102108, '2184=2184', ['255', '128', '64'])\n",
      "(29, 48, 27378, '708=708', ['0', '255', '255'])\n",
      "(30, 48, 30246, '768=768', ['0', '128', '0'])\n",
      "(31, 17, 8016, '528=528', ['128', '0', '128'])\n",
      "(32, 45, 3072, '78=78', ['128', '64', '64'])\n",
      "(33, 55, 3624, '72=72', ['128', '128', '0'])\n",
      "(34, 31, 7452, '132=132', ['255', '128', '128'])\n",
      "(35, 3, 78, '30=30', ['255', '0', '0'])\n",
      "(36, 44, 17232, '180=180', ['255', '0', '0'])\n",
      "(37, 35, 12714, '180=180', ['255', '0', '0'])\n"
     ]
    }
   ],
   "source": [
    "print \"\\n\".join([\"{}\".format(s) for s in sorted([(int(roi.RefdROINumber),len(roi.ContourSequence),sum([len(c.ContourData) for c in roi.ContourSequence]),\"{}={}\".format(roi.ContourSequence[0].NumberOfContourPoints*3,len(roi.ContourSequence[0].ContourData)),roi.ROIDisplayColor) for roi in ss.ROIContourSequence])])"
   ]
  },
  {
   "cell_type": "code",
   "execution_count": 7,
   "metadata": {
    "collapsed": false
   },
   "outputs": [
    {
     "name": "stdout",
     "output_type": "stream",
     "text": [
      "<class 'dicom.dataset.Dataset'>\n",
      "CLOSED_PLANAR\n",
      "48\n",
      "<class 'dicom.multival.MultiValue'>\n",
      "144\n",
      "['-5.69', '83.71', '-606', '-3.62', '83.17', '-606', '-1.55', '83.07', '-606', '5.2e-1', '83.39', '-606', '2.59', '83.84', '-606', '4.66', '83.92', '-606', '6.73', '84.38', '-606', '6.74', '84.39', '-606', '8.8', '85.39', '-606', '10.21', '86.46', '-606', '10.87', '87.13', '-606', '11.93', '88.53', '-606', '12.92', '90.6', '-606', '12.94', '90.69', '-606', '13.39', '92.67', '-606', '13.41', '94.74', '-606', '13.03', '96.81', '-606', '12.94', '96.94', '-606', '12.09', '98.88', '-606', '10.87', '100.55', '-606', '10.48', '100.96', '-606', '8.8', '102.27', '-606', '7.57', '103.03', '-606', '6.73', '103.86', '-606', '5.33', '105.1', '-606', '4.66', '105.56', '-606', '2.59', '106.51', '-606', '5.2e-1', '106.95', '-606', '-1.55', '106.99', '-606', '-3.62', '106.89', '-606', '-5.69', '106.34', '-606', '-7.76', '105.27', '-606', '-7.97', '105.1', '-606', '-9.83', '103.33', '-606', '-10.1', '103.03', '-606', '-11.29', '100.96', '-606', '-11.9', '98.94', '-606', '-11.93', '98.88', '-606', '-12.09', '96.81', '-606', '-11.95', '94.74', '-606', '-12.09', '92.67', '-606', '-11.9', '91.31', '-606', '-11.8', '90.6', '-606', '-11.01', '88.53', '-606', '-9.83', '86.7', '-606', '-9.61', '86.46', '-606', '-7.76', '84.79', '-606', '-7.08', '84.39', '-606']\n"
     ]
    }
   ],
   "source": [
    "roi00=roi0.ContourSequence[0]\n",
    "print type(roi00)\n",
    "print roi00.ContourGeometricType\n",
    "print roi00.NumberOfContourPoints\n",
    "print type(roi00.ContourData)\n",
    "print len(roi00.ContourData)\n",
    "print roi00.ContourData"
   ]
  },
  {
   "cell_type": "code",
   "execution_count": 8,
   "metadata": {
    "collapsed": false
   },
   "outputs": [
    {
     "name": "stdout",
     "output_type": "stream",
     "text": [
      "CT Image Storage\n",
      "1.3.6.1.4.1.2452.6.220133777.1158515368.4092929982.1599553442\n",
      "CT Image Storage\n",
      "1.3.6.1.4.1.2452.6.220133777.1158515368.4092929982.1599553442\n",
      "CT Image Storage\n",
      "1.3.6.1.4.1.2452.6.883614441.1142474686.3312618121.2103924579\n",
      "CT Image Storage\n",
      "1.3.6.1.4.1.2452.6.883614441.1142474686.3312618121.2103924579\n",
      "CT Image Storage\n",
      "1.3.6.1.4.1.2452.6.2242246146.1194155167.2538097289.1729951194\n",
      "CT Image Storage\n",
      "1.3.6.1.4.1.2452.6.2242246146.1194155167.2538097289.1729951194\n"
     ]
    }
   ],
   "source": [
    "roi000=roi00.ContourImageSequence[0]\n",
    "#roi000.RefdSOPClassUID\n",
    "for c in roi0.ContourSequence[:]:\n",
    "    cimg=c.ContourImageSequence[0]\n",
    "    print(\"{}\\n{}\\n{}\\n{}\".format(cimg.RefdSOPClassUID,\n",
    "                                  cimg.RefdSOPInstanceUID,\n",
    "                                  cimg.ReferencedSOPClassUID,\n",
    "                                  cimg.ReferencedSOPInstanceUID))"
   ]
  },
  {
   "cell_type": "code",
   "execution_count": 9,
   "metadata": {
    "collapsed": false
   },
   "outputs": [
    {
     "name": "stdout",
     "output_type": "stream",
     "text": [
      "1.3.6.1.4.1.2452.6.220133777.1158515368.4092929982.1599553442\n",
      "(0008, 1150) Referenced SOP Class UID            UI: CT Image Storage\n",
      "(0008, 1155) Referenced SOP Instance UID         UI: 1.3.6.1.4.1.2452.6.220133777.1158515368.4092929982.1599553442\n",
      "[[ 0  1  2]\n",
      " [ 3  4  5]\n",
      " [ 6  7  8]\n",
      " [ 9 10 11]]\n"
     ]
    },
    {
     "data": {
      "text/plain": [
       "[8, 7, 6, 5, 4, 3, 2, 1]"
      ]
     },
     "execution_count": 9,
     "metadata": {},
     "output_type": "execute_result"
    }
   ],
   "source": [
    "print roi000.RefdSOPInstanceUID\n",
    "print roi000\n",
    "a=np.array(range(12)).reshape(4,3)\n",
    "print a\n",
    "str(889)\n",
    "range(8,0,-1)"
   ]
  },
  {
   "cell_type": "code",
   "execution_count": 10,
   "metadata": {
    "collapsed": false
   },
   "outputs": [],
   "source": [
    "def roi_info(ds,roi_id):\n",
    "    ok=False\n",
    "    assert(len(ds.ROIContourSequence)==len(ds.StructureSetROISequence))\n",
    "    for roi,ssroi in zip(ds.ROIContourSequence,ds.StructureSetROISequence):\n",
    "        if (str(roi_id)==str(roi.RefdROINumber)) or (str(roi_id)==str(ssroi.ROIName)):\n",
    "            roinr = int(roi.RefdROINumber)\n",
    "            roiname = ssroi.ROIName\n",
    "            ok = True\n",
    "            break\n",
    "        #else: # debug\n",
    "        #    print(\"{} != {}\".format(roi_id,roi.RefdROINumber))\n",
    "    if not ok:\n",
    "        print(\"NOT OK\")\n",
    "        return\n",
    "    ncontour = len(roi.ContourSequence)\n",
    "    npoints_total = sum([len(c.ContourData) for c in roi.ContourSequence])\n",
    "    zvalues = [float(c.ContourData[-1]) for c in roi.ContourSequence]\n",
    "    print(\"roi {}={} has {} points on {} contours with z range [{},{}]\".format(\n",
    "            roinr,roiname,npoints_total,ncontour,min(zvalues),max(zvalues)))\n",
    "    for i,contour in enumerate(roi.ContourSequence):\n",
    "        print(\"image reference {}\".format(contour.ContourImageSequence[0].RefdSOPInstanceUID))\n",
    "        npoints = int(contour.NumberOfContourPoints)\n",
    "        assert(len(contour.ContourData)==3*npoints)\n",
    "        points = numpy.array([float(coord) for coord in contour.ContourData]).reshape(npoints,3)\n",
    "        zvalues = set(points[:,2])\n",
    "        assert(len(zvalues)==1)\n",
    "        phi=0.\n",
    "        for i in range(npoints):\n",
    "            j=(i+1)%npoints\n",
    "            k=(i+2)%npoints\n",
    "            ji=points[j,:]-points[i,:]\n",
    "            kj=points[k,:]-points[j,:]\n",
    "            assert(ji[2]==0)\n",
    "            assert(kj[2]==0)\n",
    "            krossproduct=ji[0]*kj[1]-ji[1]*kj[0]\n",
    "            norms=np.sqrt(np.sum(ji**2)*np.sum(kj**2))\n",
    "            sinphi=krossproduct/norms\n",
    "            if sinphi<=-1:\n",
    "                phi+=180.\n",
    "                print(\"OOPS full turnaround? sinphi={} krossproduct={} norms={}\".format(sinphi,krossproduct,norms))\n",
    "            elif sinphi<1:\n",
    "                phi+=np.arcsin(sinphi)*180./np.pi\n",
    "        print(\"contour {} point 1=({}) point {}=({}) phi = {} degrees\".format(i,points[0,:],npoints,points[-1,:],phi))\n",
    "    "
   ]
  },
  {
   "cell_type": "code",
   "execution_count": 11,
   "metadata": {
    "collapsed": false
   },
   "outputs": [
    {
     "name": "stdout",
     "output_type": "stream",
     "text": [
      "roi 21=CTV20 has 10560 points on 39 contours with z range [-588.0,-474.0]\n",
      "image reference 1.3.6.1.4.1.2452.6.2753973449.1171959527.3608862634.1152914939\n",
      "contour 49 point 1=([   2.59   55.22 -588.  ]) point 50=([   1.87   55.41 -588.  ]) phi = 360.0 degrees\n",
      "image reference 1.3.6.1.4.1.2452.6.952867075.1173068336.535155125.1632123742\n",
      "contour 47 point 1=([  -1.55   57.41 -585.  ]) point 48=([  -1.8    57.48 -585.  ]) phi = 360.0 degrees\n",
      "image reference 1.3.6.1.4.1.2452.6.2475484519.1281130928.1815957651.2611182998\n",
      "contour 55 point 1=([  -7.76   59.48 -582.  ]) point 56=([  -7.84   59.55 -582.  ]) phi = 360.0 degrees\n",
      "image reference 1.3.6.1.4.1.2452.6.1724496549.1287714929.1641416331.615700102\n",
      "contour 61 point 1=([  -5.69   59.09 -579.  ]) point 62=([  -6.46   59.55 -579.  ]) phi = 360.0 degrees\n",
      "image reference 1.3.6.1.4.1.2452.6.475501196.1112341256.2178301092.1136980145\n",
      "contour 67 point 1=([  -7.76   61.3  -576.  ]) point 68=([  -8.13   61.62 -576.  ]) phi = 360.0 degrees\n",
      "image reference 1.3.6.1.4.1.2452.6.3113408539.1084617347.2271926418.1352885371\n",
      "contour 67 point 1=([  -5.69   60.9  -573.  ]) point 68=([  -7.61   61.62 -573.  ]) phi = 360.0 degrees\n",
      "image reference 1.3.6.1.4.1.2452.6.4223136152.1211793722.2298993322.175249202\n",
      "contour 81 point 1=([  17.08   61.16 -570.  ]) point 82=([  15.14   61.62 -570.  ]) phi = 360.0 degrees\n",
      "image reference 1.3.6.1.4.1.2452.6.2871468695.1332454084.3434800036.3530094245\n",
      "contour 79 point 1=([ -13.97   63.62 -567.  ]) point 80=([ -14.05   63.69 -567.  ]) phi = 360.0 degrees\n",
      "image reference 1.3.6.1.4.1.2452.6.806109032.1279766383.3324207758.1701697938\n",
      "contour 77 point 1=([ -16.04   62.55 -564.  ]) point 78=([ -17.66   63.69 -564.  ]) phi = 360.0 degrees\n",
      "image reference 1.3.6.1.4.1.2452.6.2733180816.1122533161.3179645631.762133325\n",
      "contour 81 point 1=([ -18.12   65.59 -561.  ]) point 82=([ -18.26   65.76 -561.  ]) phi = 360.0 degrees\n",
      "image reference 1.3.6.1.4.1.2452.6.4201379463.1231777718.1844201642.698944982\n",
      "contour 91 point 1=([ -20.19   67.67 -558.  ]) point 92=([ -20.37   67.83 -558.  ]) phi = 360.0 degrees\n",
      "image reference 1.3.6.1.4.1.2452.6.2548412234.1165963949.3211734416.1323231907\n",
      "contour 89 point 1=([ -24.33   69.35 -555.  ]) point 90=([ -25.07   69.9  -555.  ]) phi = 360.0 degrees\n",
      "image reference 1.3.6.1.4.1.2452.6.4247531889.1317402447.3784276143.4103328731\n",
      "contour 85 point 1=([ -24.33   71.96 -552.  ]) point 86=([ -24.33   71.97 -552.  ]) phi = 360.0 degrees\n",
      "image reference 1.3.6.1.4.1.2452.6.1769835608.1292645040.641612466.3090728509\n",
      "contour 81 point 1=([ -22.26   74.31 -549.  ]) point 82=([ -23.87   76.11 -549.  ]) phi = 360.0 degrees\n",
      "image reference 1.3.6.1.4.1.2452.6.363119029.1229271036.2636948103.2458552712\n",
      "contour 75 point 1=([ -20.19   77.32 -546.  ]) point 76=([ -21.5    78.18 -546.  ]) phi = 360.0 degrees\n",
      "image reference 1.3.6.1.4.1.2452.6.2634747455.1265086511.1294193538.1937653341\n",
      "contour 73 point 1=([  -1.55   78.11 -543.  ]) point 74=([  -2.72   78.18 -543.  ]) phi = 360.0 degrees\n",
      "image reference 1.3.6.1.4.1.2452.6.2510280020.1270551023.3549855132.1683435031\n",
      "contour 59 point 1=([  -9.83   79.66 -540.  ]) point 60=([ -11.85   80.25 -540.  ]) phi = 360.0 degrees\n",
      "image reference 1.3.6.1.4.1.2452.6.3466853289.1163243437.1393677447.887104820\n",
      "contour 51 point 1=([  -7.76   81.87 -537.  ]) point 52=([  -8.27   82.32 -537.  ]) phi = 360.0 degrees\n",
      "image reference 1.3.6.1.4.1.2452.6.1878634033.1244326013.1781391753.4168715705\n",
      "contour 47 point 1=([  5.20000000e-01   8.20600000e+01  -5.34000000e+02]) point 48=([  -1.31   82.32 -534.  ]) phi = 360.0 degrees\n",
      "image reference 1.3.6.1.4.1.2452.6.444491555.1307680895.248246181.3787771824\n",
      "contour 49 point 1=([   2.59   83.72 -531.  ]) point 50=([   1.07   84.39 -531.  ]) phi = 360.0 degrees\n",
      "image reference 1.3.6.1.4.1.2452.6.2423278971.1244725356.2156062654.4135252029\n",
      "contour 49 point 1=([   4.66   84.18 -528.  ]) point 50=([   4.12   84.39 -528.  ]) phi = 360.0 degrees\n",
      "image reference 1.3.6.1.4.1.2452.6.3961417431.1259459211.972213436.3031868030\n",
      "contour 47 point 1=([   4.66   85.27 -525.  ]) point 48=([   2.69   86.46 -525.  ]) phi = 360.0 degrees\n",
      "image reference 1.3.6.1.4.1.2452.6.517897698.1287522709.3450476970.408773441\n",
      "contour 47 point 1=([   4.66   86.04 -522.  ]) point 48=([   3.88   86.46 -522.  ]) phi = 360.0 degrees\n",
      "image reference 1.3.6.1.4.1.2452.6.3892579590.1080017115.3180906143.3170189798\n",
      "contour 43 point 1=([   4.66   87.68 -519.  ]) point 44=([   3.6    88.53 -519.  ]) phi = 360.0 degrees\n",
      "image reference 1.3.6.1.4.1.2452.6.3466125376.1102781310.2347236487.2267543824\n",
      "contour 43 point 1=([   8.8    88.33 -516.  ]) point 44=([   7.53   88.53 -516.  ]) phi = 360.0 degrees\n",
      "image reference 1.3.6.1.4.1.2452.6.3813365127.1114545737.1374769829.2228986856\n",
      "contour 43 point 1=([  10.87   90.43 -513.  ]) point 44=([  10.23   90.6  -513.  ]) phi = 360.0 degrees\n",
      "image reference 1.3.6.1.4.1.2452.6.2447485560.1115917217.248184739.961114030\n",
      "contour 75 point 1=([  19.15   88.28 -510.  ]) point 76=([  18.4    88.53 -510.  ]) phi = 360.0 degrees\n",
      "image reference 1.3.6.1.4.1.2452.6.1026370824.1105499991.3130974117.4267162062\n",
      "contour 165 point 1=([  17.08   88.21 -507.  ]) point 166=([  16.26   88.53 -507.  ]) phi = 360.0 degrees\n",
      "image reference 1.3.6.1.4.1.2452.6.3857286403.1188810707.2751656837.2351193182\n",
      "contour 163 point 1=([  21.22   86.33 -504.  ]) point 164=([  20.97   86.46 -504.  ]) phi = 360.0 degrees\n",
      "image reference 1.3.6.1.4.1.2452.6.1521717870.1147326621.2138105742.2201060301\n",
      "contour 167 point 1=([  12.94   88.53 -501.  ]) point 168=([  12.93   88.53 -501.  ]) phi = 360.0 degrees\n",
      "image reference 1.3.6.1.4.1.2452.6.2033897872.1296730748.2201685636.1106990020\n",
      "contour 163 point 1=([  17.08   88.46 -498.  ]) point 164=([  16.85   88.53 -498.  ]) phi = 360.0 degrees\n",
      "image reference 1.3.6.1.4.1.2452.6.2384867320.1279328034.567482253.1849904416\n",
      "contour 165 point 1=([  19.15   88.31 -495.  ]) point 166=([  18.18   88.53 -495.  ]) phi = 360.0 degrees\n",
      "image reference 1.3.6.1.4.1.2452.6.1220218153.1319792568.769617079.923036509\n",
      "contour 161 point 1=([  19.15   88.28 -492.  ]) point 162=([  18.02   88.53 -492.  ]) phi = 360.0 degrees\n",
      "image reference 1.3.6.1.4.1.2452.6.423827315.1342162554.1686968493.1544288230\n",
      "contour 153 point 1=([  19.15   87.87 -489.  ]) point 154=([  17.46   88.53 -489.  ]) phi = 360.0 degrees\n",
      "image reference 1.3.6.1.4.1.2452.6.2120857353.1262599034.1620503481.4099403428\n",
      "contour 147 point 1=([  19.15   87.7  -486.  ]) point 148=([  17.25   88.53 -486.  ]) phi = 360.0 degrees\n",
      "image reference 1.3.6.1.4.1.2452.6.4038681149.1136630355.3245511329.4050757961\n",
      "contour 137 point 1=([  17.08   88.01 -483.  ]) point 138=([  16.57   88.53 -483.  ]) phi = 360.0 degrees\n",
      "image reference 1.3.6.1.4.1.2452.6.2302539193.1213126276.2916112028.160665364\n",
      "contour 129 point 1=([  19.15   86.32 -480.  ]) point 130=([  18.93   86.46 -480.  ]) phi = 360.0 degrees\n",
      "image reference 1.3.6.1.4.1.2452.6.998149330.1154546352.4067742081.1401054790\n",
      "contour 115 point 1=([  21.22   85.96 -477.  ]) point 116=([  19.51   86.46 -477.  ]) phi = 360.0 degrees\n",
      "image reference 1.3.6.1.4.1.2452.6.2996056864.1277778454.4264165021.3499635680\n",
      "contour 105 point 1=([  21.22   85.47 -474.  ]) point 106=([  19.21   86.46 -474.  ]) phi = 360.0 degrees\n"
     ]
    }
   ],
   "source": [
    "roi_info(ss,'CTV20')"
   ]
  },
  {
   "cell_type": "code",
   "execution_count": 12,
   "metadata": {
    "collapsed": false
   },
   "outputs": [],
   "source": [
    "def list_roinames(ds):\n",
    "    assert(len(ds.ROIContourSequence)==len(ds.StructureSetROISequence))\n",
    "    return [str(ssroi.ROIName) for ssroi in ds.StructureSetROISequence]\n",
    "\n",
    "class region_of_interest(object):\n",
    "    def __init__(self,ds,roi_id,verbose=False):\n",
    "        ok=False\n",
    "        assert(len(ds.ROIContourSequence)==len(ds.StructureSetROISequence))\n",
    "        for roi,ssroi in zip(ds.ROIContourSequence,ds.StructureSetROISequence):\n",
    "            if (str(roi_id)==str(roi.RefdROINumber)) or (str(roi_id)==str(ssroi.ROIName)):\n",
    "                self.roinr = int(roi.RefdROINumber)\n",
    "                self.roiname = str(ssroi.ROIName)\n",
    "                ok = True\n",
    "                break\n",
    "            #else: # debug\n",
    "            #    print(\"{} != {}\".format(roi_id,roi.RefdROINumber))\n",
    "        if not ok:\n",
    "            raise ValueError(\"ROI with id {} not found\".format(roi_id))\n",
    "        self.ncontours = len(roi.ContourSequence)\n",
    "        self.npoints_total = sum([len(c.ContourData) for c in roi.ContourSequence])\n",
    "        zvalues = [float(c.ContourData[-1]) for c in roi.ContourSequence]\n",
    "        self.zmin=min(zvalues)\n",
    "        self.zmax=max(zvalues)\n",
    "        if verbose:\n",
    "            print(\"roi {}={} has {} points on {} contours with z range [{},{}]\".format(\n",
    "                    self.roinr,self.roiname,self.npoints_total,self.ncontours,self.zmin,self.zmax))\n",
    "        self.contours=[]\n",
    "        self.dz = 0.\n",
    "        self.contour_refs=[]\n",
    "        for i,contour in enumerate(roi.ContourSequence):\n",
    "            npoints = int(contour.NumberOfContourPoints)\n",
    "            assert(len(contour.ContourData)==3*npoints)\n",
    "            points = numpy.array([float(coord) for coord in contour.ContourData]).reshape(npoints,3)\n",
    "            zvalues = set(points[:,2])\n",
    "            assert(len(zvalues)==1)\n",
    "            self.contours.append(points)\n",
    "            self.contour_refs.append(contour.ContourImageSequence[0].RefdSOPInstanceUID)\n",
    "            if i==1:\n",
    "                self.dz = points[0,2] - self.contours[0][0,2]\n",
    "                if abs(self.dz)<1e-6:\n",
    "                    self.dz = 0.\n",
    "            elif self.dz>0. or self.dz<0.:\n",
    "                checkdz = points[0,2] - self.contours[i-1][0,2]\n",
    "                if abs(checkdz-self.dz)>1e-6:\n",
    "                    self.dz = 0.\n",
    "    def get_mask(self,img):\n",
    "        if self.dz == 0.:\n",
    "            print(\"Irregular z-values, masking not yet supported\")\n",
    "            return None\n",
    "        dims=img.GetSize()\n",
    "        if len(dims)!=3:\n",
    "            print(\"ERROR only 3d images supported\")\n",
    "            return None\n",
    "        roimask = sitk.Image(dims,sitk.sitkUInt8)\n",
    "        roimask.CopyInformation(img)\n",
    "        orig = roimask.GetOrigin()\n",
    "        space = roimask.GetSpacing()\n",
    "        zmin = orig[2] - 0.5000001*space[2]\n",
    "        zmax = orig[2] + (dims[2]-0.50000001)*space[2]\n",
    "        xpoints=np.linspace(orig[0],orig[0]+space[0]*dims[0],dims[0],False)\n",
    "        ypoints=np.linspace(orig[1],orig[1]+space[1]*dims[1],dims[1],False)\n",
    "        xymesh = np.meshgrid(xpoints,ypoints)\n",
    "        if zmin>self.zmax or zmax<self.zmin:\n",
    "            print(\"WARNING: no overlap in z ranges\")\n",
    "            return roimask\n",
    "        contour0pts = self.contours[0]\n",
    "        #print contour0pts.shape\n",
    "        z0=contour0pts[0,2]\n",
    "        #print(\"z0={}\".format(z0))\n",
    "        for iz in range(dims[2]):\n",
    "            z=orig[2]+space[2]*iz\n",
    "            icz = int(np.round((z-z0)/self.dz))\n",
    "            if icz>=0 and icz<self.ncontours:\n",
    "                path = matplotlib.path.Path(self.contours[icz][:,0:2])\n",
    "                flatmask = path.contains_points(np.array([(x,y) for x,y in zip(xymesh[0].flat,xymesh[1].flat)]))\n",
    "                for iflat,b in enumerate(flatmask):\n",
    "                    if not b:\n",
    "                        continue\n",
    "                    ix = iflat % dims[0]\n",
    "                    iy = iflat / dims[0]\n",
    "                    roimask[ix,iy,iz]=1\n",
    "        return roimask\n",
    "    def get_dvh(self,img,nbins=100,dmin=None,dmax=None):\n",
    "        dims=img.GetSize()\n",
    "        if len(dims)!=3:\n",
    "            print(\"ERROR only 3d images supported\")\n",
    "            return None\n",
    "        aimg = sitk.GetArrayFromImage(img)\n",
    "        if dmin is None:\n",
    "            dmin=np.min(aimg)\n",
    "        if dmax is None:\n",
    "            dmax=np.max(aimg)\n",
    "        amask=(sitk.GetArrayFromImage(self.get_mask(img))>0)\n",
    "        dhist,dedges = np.histogram(aimg[amask],bins=nbins,range=(dmin,dmax))\n",
    "        adhist=np.array(dhist,dtype=float)\n",
    "        dhistsum=np.sum(adhist)\n",
    "        amasksum=np.sum(amask)\n",
    "        adchist=np.cumsum(adhist)\n",
    "        assert(amasksum==dhistsum)\n",
    "        assert(amasksum==adchist[-1])\n",
    "        if dhistsum>0:\n",
    "            dvh=-1.0*adchist/dhistsum+1.0\n",
    "        return dvh, dedges, dhistsum\n",
    "                \n",
    "\n",
    "    # CODE TO DETERMINE LEFT/RIGHT HANDEDNESS OF CONTOUR\n",
    "    #        phi=0.\n",
    "    #        for i in range(npoints):\n",
    "    #            j=(i+1)%npoints\n",
    "    #            k=(i+2)%npoints\n",
    "    #            ji=points[j,:]-points[i,:]\n",
    "    #            kj=points[k,:]-points[j,:]\n",
    "    #            assert(ji[2]==0)\n",
    "    #            assert(kj[2]==0)\n",
    "    #            krossproduct=ji[0]*kj[1]-ji[1]*kj[0]\n",
    "    #            norms=np.sqrt(np.sum(ji**2)*np.sum(kj**2))\n",
    "    #            sinphi=krossproduct/norms\n",
    "    #            if sinphi<-1:\n",
    "    #                phi+=180.\n",
    "    #                print(\"OOPS full turnaround? sinphi={} krossproduct={} norms={}\".format(sinphi,krossproduct,norms))\n",
    "    #            elif sinphi<1:\n",
    "    #                phi+=np.arcsin(sinphi)*180./np.pi\n",
    "    #        print(\"contour {} point 1=({}) point {}=({}) phi = {} degrees\".format(i,points[0,:],npoints,points[-1,:],phi))\n",
    "    "
   ]
  },
  {
   "cell_type": "code",
   "execution_count": 13,
   "metadata": {
    "collapsed": false
   },
   "outputs": [
    {
     "name": "stdout",
     "output_type": "stream",
     "text": [
      "['aortaklaff', 'CTV', 'CTV 0', 'CTV+ITV', 'CTV20', 'CTV50', 'CTV80', 'CTVMIP', 'Esophagus', 'Esophagus_4D', 'External', 'External_4D', 'Heart', 'Heart_4D', 'Help_ring', 'h\\xc3\\xb6gdens', 'ITV_-24mm_cran', 'ITV0+20+50+80+MI', 'ITV0+50', 'ITV0+50+MIP', 'kransk\\xc3\\xa4rlsavg\\xc3\\xa5ng', 'Lung_L', 'Lung_L_4D', 'Lung_R', 'Lung_R_4D', 'Lung_total', 'PTV', 'PTV_external', 'PTV_ITV+7', 'pulmonalisklaff', 'SpinalCord', 'SpinalCord_4D', 'Submandibular_L', 'Submandibular_R', 'Thyroid', 'help_ptv_long', 'help_ptv_short']\n",
      "roi 21=CTV20 has 10560 points on 39 contours with z range [-588.0,-474.0]\n"
     ]
    }
   ],
   "source": [
    "print list_roinames(ss)\n",
    "r=region_of_interest(ss,'CTV20',True)"
   ]
  },
  {
   "cell_type": "code",
   "execution_count": 14,
   "metadata": {
    "collapsed": false
   },
   "outputs": [
    {
     "data": {
      "text/plain": [
       "<matplotlib.legend.Legend at 0x123d1d910>"
      ]
     },
     "execution_count": 14,
     "metadata": {},
     "output_type": "execute_result"
    },
    {
     "data": {
      "image/png": "[encoded data removed]",
      "text/plain": [
       "<matplotlib.figure.Figure at 0x123d1d490>"
      ]
     },
     "metadata": {},
     "output_type": "display_data"
    }
   ],
   "source": [
    "fig=pylab.figure(figsize=[7,5])\n",
    "for c in r.contours[::5]:\n",
    "    pylab.plot(c[:,0],c[:,1],lw=3,label='z={}mm'.format(c[0,2]))\n",
    "xmin,xmax=pylab.xlim()\n",
    "xmin -= 0.5*(xmax-xmin)\n",
    "pylab.xlim(xmin,xmax)\n",
    "pylab.xlabel(r'$X_{CT}$ mm',fontsize=16)\n",
    "pylab.ylabel(r'$Y_{CT}$ mm',fontsize=16)\n",
    "pylab.grid()\n",
    "pylab.legend(loc='upper left')"
   ]
  },
  {
   "cell_type": "code",
   "execution_count": 15,
   "metadata": {
    "collapsed": false
   },
   "outputs": [
    {
     "name": "stdout",
     "output_type": "stream",
     "text": [
      "0\n",
      "(17.166666666666664, 12.166666666666666)\n",
      "(17L, 12L)\n",
      "Help on method CopyInformation in module SimpleITK.SimpleITK:\n",
      "\n",
      "CopyInformation(self, *args, **kwargs) method of SimpleITK.SimpleITK.Image instance\n",
      "    CopyInformation(Image self, Image srcImage)\n",
      "    \n",
      "    Copy common meta-data from an image to this one.\n",
      "    \n",
      "    \n",
      "    Copies the Origin, Spacing, and Direction from the source image to\n",
      "    this image.\n",
      "    \n",
      "    It is required for the source Image's dimension and size to match, this image's attributes, otherwise an\n",
      "    exception will be generated.\n",
      "\n"
     ]
    }
   ],
   "source": [
    "img2d=sitk.Image(50,50,sitk.sitkUInt8)\n",
    "img2d.SetOrigin([-28.5,51.5])\n",
    "img2d.SetSpacing([3.,3.])\n",
    "print img2d[3,14]\n",
    "print img2d.TransformPhysicalPointToContinuousIndex([23,88])\n",
    "print img2d.TransformPhysicalPointToIndex([23,88])\n",
    "help(img2d.CopyInformation)"
   ]
  },
  {
   "cell_type": "code",
   "execution_count": 26,
   "metadata": {
    "collapsed": false
   },
   "outputs": [
    {
     "data": {
      "text/plain": [
       "(50, 200)"
      ]
     },
     "execution_count": 26,
     "metadata": {},
     "output_type": "execute_result"
    },
    {
     "data": {
      "image/png": "[encoded data removed]",
      "text/plain": [
       "<matplotlib.figure.Figure at 0x11d652f50>"
      ]
     },
     "metadata": {},
     "output_type": "display_data"
    }
   ],
   "source": [
    "pylab.figure(num=\"1\",figsize=[8,8])\n",
    "\n",
    "img2d[3,14]=0\n",
    "c5=r.contours[35]\n",
    "for px,py in zip(c5[:,0],c5[:,1]):\n",
    "    i,j=img2d.TransformPhysicalPointToIndex([px,py])\n",
    "    img2d[i,j]=1\n",
    "#print img2d[3,14]\n",
    "pylab.imshow(sitk.GetArrayFromImage(img2d),origin='lower',interpolation='nearest',extent=[-30,120,50,200])\n",
    "c5path=matplotlib.path.Path(c5[:,:2])\n",
    "ox,oy=img2d.GetOrigin()\n",
    "sx,sy=img2d.GetSpacing()\n",
    "nx,ny=img2d.GetSize()\n",
    "xpt,ypt=np.meshgrid(np.arange(ox,ox+(nx-0.25)*sx,sx),np.arange(oy,oy+(ny-0.25)*sy,sy))\n",
    "inmask=c5path.contains_points(np.array([(x,y) for x,y in zip(xpt.flat,ypt.flat)]))\n",
    "outmask=np.logical_not(inmask)\n",
    "pylab.scatter(xpt.flat[inmask],ypt.flat[inmask],s=15.,c='y')\n",
    "pylab.scatter(xpt.flat[outmask],ypt.flat[outmask],s=15.,c='g')\n",
    "pylab.xlim(-30,120)\n",
    "pylab.ylim(50,200)"
   ]
  },
  {
   "cell_type": "code",
   "execution_count": 17,
   "metadata": {
    "collapsed": false
   },
   "outputs": [
    {
     "name": "stdout",
     "output_type": "stream",
     "text": [
      "oops\n"
     ]
    }
   ],
   "source": [
    "xxx=np.nan\n",
    "if xxx > 0. or xxx < 0.:\n",
    "    print \"nonzero\"\n",
    "else:\n",
    "    print \"oops\""
   ]
  },
  {
   "cell_type": "code",
   "execution_count": 18,
   "metadata": {
    "collapsed": false
   },
   "outputs": [
    {
     "data": {
      "text/plain": [
       "array([ 0.,  1.,  2.,  3.,  4.])"
      ]
     },
     "execution_count": 18,
     "metadata": {},
     "output_type": "execute_result"
    }
   ],
   "source": [
    "np.linspace(0,5,5,False)"
   ]
  },
  {
   "cell_type": "code",
   "execution_count": 19,
   "metadata": {
    "collapsed": false
   },
   "outputs": [
    {
     "name": "stdout",
     "output_type": "stream",
     "text": [
      "[[ 0.  1.  2.  3.  4.]\n",
      " [ 0.  1.  2.  3.  4.]\n",
      " [ 0.  1.  2.  3.  4.]\n",
      " [ 0.  1.  2.  3.  4.]]\n",
      "[[ 0.  0.  0.  0.  0.]\n",
      " [ 1.  1.  1.  1.  1.]\n",
      " [ 2.  2.  2.  2.  2.]\n",
      " [ 3.  3.  3.  3.  3.]]\n",
      "[ 0.  1.  2.  3.  4.  0.  1.  2.  3.  4.  0.  1.  2.  3.  4.  0.  1.  2.\n",
      "  3.  4.]\n",
      "[ 0.  0.  0.  0.  0.  1.  1.  1.  1.  1.  2.  2.  2.  2.  2.  3.  3.  3.\n",
      "  3.  3.]\n",
      "(20,)\n",
      "[[ 0.  1.  2.  3.  4.]\n",
      " [ 0.  1.  2.  3.  4.]\n",
      " [ 0.  1.  2.  3.  4.]\n",
      " [ 0.  1.  2.  3.  4.]]\n",
      "[[ 0  1  2  3  4  5]\n",
      " [ 6  7  8  9 10 11]\n",
      " [12 13 14 15 16 17]\n",
      " [18 19 20 21 22 23]]\n",
      "[[False False  True False False False]\n",
      " [False False  True  True False False]\n",
      " [False False False False False False]\n",
      " [False False False False False  True]]\n",
      "[ 2  8  9 23]\n",
      "(4,)\n",
      "[ 6  1 14]\n",
      "[1 2 0 0 1]\n",
      "[  0.    4.8   9.6  14.4  19.2  24. ]\n"
     ]
    }
   ],
   "source": [
    "xarr=np.linspace(0,5,5,False)\n",
    "yarr=np.linspace(0,4,4,False)\n",
    "xy=np.meshgrid(xarr,yarr)\n",
    "print xy[0]\n",
    "print xy[1]\n",
    "print xy[0].flatten()\n",
    "print xy[1].flatten()\n",
    "print xy[1].flatten().shape\n",
    "print xy[0]\n",
    "abc = np.arange(24).reshape(4,6)\n",
    "abcmask = np.zeros((4,6),dtype=bool)\n",
    "abcmask[0,2]=True\n",
    "abcmask[1,2:4]=True\n",
    "abcmask[3,5]=True\n",
    "print abc\n",
    "print abcmask\n",
    "print abc[abcmask]\n",
    "print abc[abcmask][:].shape\n",
    "print np.diff(abc[abcmask])\n",
    "h,e=np.histogram(abc[abcmask],bins=5,range=(0,24))\n",
    "print h\n",
    "print e"
   ]
  },
  {
   "cell_type": "code",
   "execution_count": 20,
   "metadata": {
    "collapsed": false
   },
   "outputs": [],
   "source": [
    "testimg = sitk.GaussianSource(sitk.sitkFloat64,[150,128,64],origin=(-30.,50.,-588.),spacing=(1,1,3),mean=(25,100,-550),sigma=(50,50,50),scale=1000.)"
   ]
  },
  {
   "cell_type": "code",
   "execution_count": 21,
   "metadata": {
    "collapsed": false
   },
   "outputs": [
    {
     "name": "stdout",
     "output_type": "stream",
     "text": [
      "(50, 3)\n",
      "z0=-588.0\n",
      "foo\n",
      "(50, 3)\n",
      "z0=-588.0\n",
      "bar nvoxels=37750.0\n"
     ]
    },
    {
     "data": {
      "text/plain": [
       "<Container object of 100 artists>"
      ]
     },
     "execution_count": 21,
     "metadata": {},
     "output_type": "execute_result"
    },
    {
     "data": {
      "image/png": "[encoded data removed]",
      "text/plain": [
       "<matplotlib.figure.Figure at 0x123e83d90>"
      ]
     },
     "metadata": {},
     "output_type": "display_data"
    }
   ],
   "source": [
    "aimg=sitk.GetArrayFromImage(testimg)\n",
    "fig=pylab.figure(num=\"3\")\n",
    "fig.add_subplot(221)\n",
    "pylab.imshow(aimg[32,:,:])\n",
    "testmask=r.get_mask(testimg)\n",
    "fig.add_subplot(222)\n",
    "amask=sitk.GetArrayFromImage(testmask)\n",
    "pylab.imshow(amask[32,:,:])\n",
    "image_masked=sitk.GetImageFromArray(amask*aimg)\n",
    "image_masked.CopyInformation(testimg)\n",
    "aresult=sitk.GetArrayFromImage(image_masked)\n",
    "fig.add_subplot(223)\n",
    "pylab.imshow(aresult[32,:,:])\n",
    "print(\"foo\")\n",
    "dvh,edges,nvoxels=r.get_dvh(testimg)\n",
    "print(\"bar nvoxels={}\".format(nvoxels))\n",
    "fig.add_subplot(224)\n",
    "pylab.bar(edges[:-1],dvh,np.diff(edges),lw=0)"
   ]
  },
  {
   "cell_type": "code",
   "execution_count": 23,
   "metadata": {
    "collapsed": false
   },
   "outputs": [
    {
     "data": {
      "text/plain": [
       "60"
      ]
     },
     "execution_count": 23,
     "metadata": {},
     "output_type": "execute_result"
    }
   ],
   "source": [
    "np.cumprod([3,4,5])[-1]"
   ]
  },
  {
   "cell_type": "code",
   "execution_count": 25,
   "metadata": {
    "collapsed": false
   },
   "outputs": [
    {
     "data": {
      "text/plain": [
       "60"
      ]
     },
     "execution_count": 25,
     "metadata": {},
     "output_type": "execute_result"
    }
   ],
   "source": [
    "reduce(lambda x,y: x*y, np.array([3,4,5]))"
   ]
  },
  {
   "cell_type": "code",
   "execution_count": null,
   "metadata": {
    "collapsed": true
   },
   "outputs": [],
   "source": []
  }
 ],
 "metadata": {
  "kernelspec": {
   "display_name": "Python 2",
   "language": "python",
   "name": "python2"
  },
  "language_info": {
   "codemirror_mode": {
    "name": "ipython",
    "version": 2
   },
   "file_extension": ".py",
   "mimetype": "text/x-python",
   "name": "python",
   "nbconvert_exporter": "python",
   "pygments_lexer": "ipython2",
   "version": "2.7.10"
  }
 },
 "nbformat": 4,
 "nbformat_minor": 0
}
