{
 "cells": [
  {
   "cell_type": "markdown",
   "metadata": {},
   "source": [
    "Python basics for medical physicists\n",
    "==================="
   ]
  },
  {
   "cell_type": "markdown",
   "metadata": {},
   "source": [
    "Installation\n",
    "--------------"
   ]
  },
  {
   "cell_type": "markdown",
   "metadata": {},
   "source": [
    "A python installation comes in three parts:\n",
    "\n",
    "1. Python interpreter with standard modules\n",
    "2. Many more modules\n",
    "3. ipython (notebook)\n",
    "\n",
    "The first part is what you get when you \"install python\": an interpreter program (called python) for the core python language, and a set of extensions (\"modules\") that provide kind of a standard library. On Linux/MacOSX it is part of the system installation. On Windows you need to install a Python client yourself (e.g. IronPython, Anaconda), visit the Python home page http://www.python.org for instructions and suggestions.\n",
    "\n",
    "Besides the standard modules there are **many** extensions to provide useful features in python. They can be installed through various ways:\n"
   ]
  },
  {
   "cell_type": "markdown",
   "metadata": {},
   "source": [
    "Running Python\n",
    "----------------"
   ]
  },
  {
   "cell_type": "code",
   "execution_count": 1,
   "metadata": {
    "collapsed": false
   },
   "outputs": [
    {
     "name": "stdout",
     "output_type": "stream",
     "text": [
      "hello world\n"
     ]
    }
   ],
   "source": [
    "print \"hello world\""
   ]
  },
  {
   "cell_type": "markdown",
   "metadata": {},
   "source": [
    "Integers and floats\n",
    "---------------------"
   ]
  },
  {
   "cell_type": "code",
   "execution_count": 2,
   "metadata": {
    "collapsed": false
   },
   "outputs": [
    {
     "name": "stdout",
     "output_type": "stream",
     "text": [
      "5000000000000000000000000000000\n",
      "0.542 0.5424242\n",
      "\n",
      "0.542 0.5424242\n",
      "1e-100 1.000000e-100 1e-300 0 1e+300 inf\n",
      "3.14159265359\n"
     ]
    }
   ],
   "source": [
    "print 5*1000*1000*1000*1000*1000000000*1000000000\n",
    "print(\"{0:.3f} {0:.7f}\\n\".format(0.54242424242));\n",
    "print \"%.3f %.7f\" % (0.54242424242,0.54242424242)\n",
    "print \"%g %e %g %g %g %g\" % (1e-100,1e-100,1e-300,1e-400,1e+300,1e+400)\n",
    "import numpy\n",
    "print numpy.pi\n",
    "numpy.sin(0.5*numpy.pi);"
   ]
  },
  {
   "cell_type": "code",
   "execution_count": 3,
   "metadata": {
    "collapsed": false
   },
   "outputs": [
    {
     "data": {
      "text/plain": [
       "2"
      ]
     },
     "execution_count": 3,
     "metadata": {},
     "output_type": "execute_result"
    }
   ],
   "source": [
    "14/5"
   ]
  },
  {
   "cell_type": "code",
   "execution_count": 4,
   "metadata": {
    "collapsed": false
   },
   "outputs": [],
   "source": [
    "import fractions\n",
    "fractions??"
   ]
  },
  {
   "cell_type": "markdown",
   "metadata": {},
   "source": [
    "Strings\n",
    "--------"
   ]
  },
  {
   "cell_type": "markdown",
   "metadata": {},
   "source": [
    "Strings represent text, and as you saw above, you can formatted insert string representations of integers, floats and many other things into them. You can also concatenate them:"
   ]
  },
  {
   "cell_type": "code",
   "execution_count": 5,
   "metadata": {
    "collapsed": false
   },
   "outputs": [
    {
     "data": {
      "text/plain": [
       "'hello world bonjour'"
      ]
     },
     "execution_count": 5,
     "metadata": {},
     "output_type": "execute_result"
    }
   ],
   "source": [
    "s=\"hello world\"\n",
    "t=\" bonjour\"\n",
    "s+t"
   ]
  },
  {
   "cell_type": "markdown",
   "metadata": {},
   "source": [
    "And you can do many other operations. Strings do not want to be changed, so any operation that involves a change usually returns a copy with that modification while leaving the original string intact."
   ]
  },
  {
   "cell_type": "code",
   "execution_count": 6,
   "metadata": {
    "collapsed": false
   },
   "outputs": [
    {
     "name": "stdout",
     "output_type": "stream",
     "text": [
      "hello work\n",
      "HELLO WORLD\n",
      "hello wo\n",
      "llo w\n",
      "hello world\n"
     ]
    }
   ],
   "source": [
    "tt=s.replace(\"ld\",\"k\")\n",
    "print tt\n",
    "uu=s.upper()\n",
    "print uu\n",
    "ss=s[:-3]\n",
    "print ss\n",
    "vv=s[2:7]\n",
    "print vv\n",
    "print s"
   ]
  },
  {
   "cell_type": "markdown",
   "metadata": {},
   "source": [
    "A string is an array/list of characters. Each has an index corresponding to its position in the string, starting with zero. When you select a range, like in `s[2:7]` above, you select the substring consisting of the five characters at position/index 2,3,4,5,6, which are actually the third till seventh characters in the string. As you can see, the starting index in the range (in the example: 2) is inclusive, the closing index (7 in this case) is exclusive. If you leave out the starting index, then 0 is assumed, leaving out the end index implies that the range should go to the end of the string. A negative index can be used to count from the back, so `s[:-3]` chops off the last 3 characters.\n",
    "\n",
    "Seaching stuff in strings:"
   ]
  },
  {
   "cell_type": "code",
   "execution_count": 7,
   "metadata": {
    "collapsed": false
   },
   "outputs": [
    {
     "name": "stdout",
     "output_type": "stream",
     "text": [
      "True\n",
      "4 at index 4\n",
      "-1\n",
      "12\n"
     ]
    }
   ],
   "source": [
    "print(\"o w\" in s)\n",
    "print(\"{} at index {}\".format(t.find(\"jour\"),t.index(\"jour\")))\n",
    "print(\"{}\".format(t.find(\"JOUR\")))\n",
    "print(\"abc abc abc abc\".rfind(\"ab\"))\n"
   ]
  },
  {
   "cell_type": "markdown",
   "metadata": {},
   "source": [
    "Note that when a search string is not found, `find` returns `-1`. Which should not be confused with the index for the last character of the string."
   ]
  },
  {
   "cell_type": "markdown",
   "metadata": {},
   "source": [
    "Lists\n",
    "-----"
   ]
  },
  {
   "cell_type": "markdown",
   "metadata": {},
   "source": [
    "A list is a container for arbitrary objects. A list can be nested. Unlike strings, operations on lists usually change the list itself, instead of returning a modified copy."
   ]
  },
  {
   "cell_type": "code",
   "execution_count": 8,
   "metadata": {
    "collapsed": false
   },
   "outputs": [
    {
     "name": "stdout",
     "output_type": "stream",
     "text": [
      "[1, 3, 2, 'lsdkjflskdj', 'c']\n"
     ]
    }
   ],
   "source": [
    "mylist=[1,3,2,'lsdkjflskdj','c']\n",
    "\n",
    "print mylist"
   ]
  },
  {
   "cell_type": "code",
   "execution_count": 9,
   "metadata": {
    "collapsed": false
   },
   "outputs": [
    {
     "name": "stdout",
     "output_type": "stream",
     "text": [
      "c\n",
      "lsdkjflskdj\n",
      "2\n",
      "3\n",
      "1\n"
     ]
    }
   ],
   "source": [
    "mylist.reverse()\n",
    "for i in mylist:\n",
    "    print i"
   ]
  },
  {
   "cell_type": "code",
   "execution_count": 10,
   "metadata": {
    "collapsed": false
   },
   "outputs": [
    {
     "name": "stdout",
     "output_type": "stream",
     "text": [
      "Help on built-in function reverse:\n",
      "\n",
      "reverse(...)\n",
      "    L.reverse() -- reverse *IN PLACE*\n",
      "\n"
     ]
    }
   ],
   "source": [
    "help(mylist.reverse)"
   ]
  },
  {
   "cell_type": "code",
   "execution_count": 11,
   "metadata": {
    "collapsed": false
   },
   "outputs": [
    {
     "name": "stdout",
     "output_type": "stream",
     "text": [
      "['humptydumpty', 42, (3, 4, 5), ['c', 'lsdkjflskdj', 'BOOH', 2, 3, 1, 'foo bar']]\n"
     ]
    }
   ],
   "source": [
    "# this here is a comment\n",
    "# you should explain what you are doing here\n",
    "# because in 3 weeks from now you forgot and don't understand\n",
    "mylist.insert(2,\"BOOH\")\n",
    "mylist.append(\"foo bar\")\n",
    "rabbithole=[\"humptydumpty\",42,(3,4,5)]\n",
    "#print rabbithole[2]\n",
    "rabbithole.append(mylist)\n",
    "print rabbithole\n",
    "#print mylist"
   ]
  },
  {
   "cell_type": "markdown",
   "metadata": {},
   "source": [
    "You *can* try to use lists as matrices and vectors, but there are much better tools for that, for instance the `numpy` module, which will be discussed in more detail down below."
   ]
  },
  {
   "cell_type": "code",
   "execution_count": 12,
   "metadata": {
    "collapsed": false
   },
   "outputs": [
    {
     "name": "stdout",
     "output_type": "stream",
     "text": [
      "[[2, 3, 4], [6, 3, 2], [3, 2, 3]]\n",
      "[[2 3 4]\n",
      " [6 3 2]\n",
      " [3 2 3]]\n"
     ]
    }
   ],
   "source": [
    "sillymatrix=[[2,3,4],[6,3,2],[3,2,3]]\n",
    "print sillymatrix\n",
    "smartmatrix=numpy.array(sillymatrix)\n",
    "print smartmatrix"
   ]
  },
  {
   "cell_type": "markdown",
   "metadata": {},
   "source": [
    "The `range` function is often used to generate a counting list, useful e.g. for `for` loops. For initializing lists, loops can often be avoided/compactified by using \"list comprehension\", that is an expression of the form `[expr for var in list]` or `[expr for var in list if boolexpr]`. Boolean expressions will be explained below."
   ]
  },
  {
   "cell_type": "code",
   "execution_count": 13,
   "metadata": {
    "collapsed": false
   },
   "outputs": [
    {
     "name": "stdout",
     "output_type": "stream",
     "text": [
      "2\n",
      "[0, 1, 2, 3, 4, 5, 6]\n",
      "[1, 16, 49, 100, 169, 256, 361]\n"
     ]
    }
   ],
   "source": [
    "r=range(len(mylist))\n",
    "print mylist[3]\n",
    "print r\n",
    "squares=list([x**2 for x in range(20) if x%3==1])\n",
    "print squares"
   ]
  },
  {
   "cell_type": "markdown",
   "metadata": {},
   "source": [
    "Boolean expressions\n",
    "----------------------"
   ]
  },
  {
   "cell_type": "markdown",
   "metadata": {},
   "source": [
    "Boolean expressions can have only one of two values: `True` or `False`. Often they consist of logical combinations of comparisons, but you can also use functions and methods that return a boolean value. The logical operators \"and\" and \"or\" have symbolic versions: `&&` and `||`. There is a subtle difference between them. Do not mix these two versions within one expression."
   ]
  },
  {
   "cell_type": "code",
   "execution_count": 14,
   "metadata": {
    "collapsed": false
   },
   "outputs": [
    {
     "name": "stdout",
     "output_type": "stream",
     "text": [
      "True\n",
      "True\n",
      "False\n",
      "False\n",
      "True\n"
     ]
    }
   ],
   "source": [
    "print(3==3)\n",
    "print(3==4 or 5==5)\n",
    "x=5\n",
    "y=6\n",
    "print(((x==5) or (y==5)) and (y*x<0))\n",
    "foo=\"foo_foo\"\n",
    "print foo.isupper()\n",
    "bar=\"BAR_BAR\"\n",
    "print bar.isupper()"
   ]
  },
  {
   "cell_type": "markdown",
   "metadata": {},
   "source": [
    "Dictionaries\n",
    "------------"
   ]
  },
  {
   "cell_type": "markdown",
   "metadata": {},
   "source": [
    "A dictionary is a list of key-value pairs. The keys and values can both be of any type. Often the keys are strings, for instance to denote names of things. Each of the keys of a dictionaries can be used in the same way that you would use an integer index to obtain a list item, but now to obtain the corresponding dictionary item. A python dictionary is very similar to a `std::map` in C++.\n",
    "\n",
    "The `in` operator can be used to find out if a particular key exists in a dictionary. This operator also works on lists."
   ]
  },
  {
   "cell_type": "code",
   "execution_count": 15,
   "metadata": {
    "collapsed": false
   },
   "outputs": [
    {
     "name": "stdout",
     "output_type": "stream",
     "text": [
      "{'Pete': 38645864758, 'John': 3957987, 'Anders': 2683647238647}\n",
      "38645864758\n",
      "['Pete', 'John', 'Anders']\n",
      "that Pete's number\n",
      "True\n",
      "False\n",
      "{'Pete': 38645864758, 'John': 3957987, 'Anders': 2683647238647}\n"
     ]
    }
   ],
   "source": [
    "phonebook = {\"Pete\":38645864758,\"John\":3957987,\"Anders\":2683647238647}\n",
    "print phonebook\n",
    "pb=phonebook\n",
    "print pb[\"Pete\"]\n",
    "print pb.keys()\n",
    "if 38645864758 in pb.values():\n",
    "    print \"that %s's number\" % (pb.keys()[pb.values().index(38645864758)])\n",
    "else:\n",
    "    print \"slkdjfslkdjflk\"\n",
    "    print \"no\"\n",
    "print \"Anders\" in pb\n",
    "print 38645864758 in pb\n",
    "print pb"
   ]
  },
  {
   "cell_type": "markdown",
   "metadata": {},
   "source": [
    "Note that there is a subtle but important difference in the effect of an *assignment* (a statement of the for `lhs=rhs`) between on the one hand simple data types like integers and floats...:"
   ]
  },
  {
   "cell_type": "code",
   "execution_count": 16,
   "metadata": {
    "collapsed": false
   },
   "outputs": [
    {
     "name": "stdout",
     "output_type": "stream",
     "text": [
      "4\n",
      "4\n",
      "4\n",
      "5\n"
     ]
    }
   ],
   "source": [
    "i=4\n",
    "j=i\n",
    "print i\n",
    "print j\n",
    "j=5\n",
    "print i\n",
    "print j"
   ]
  },
  {
   "cell_type": "markdown",
   "metadata": {},
   "source": [
    "... and on the other hand for non-trivial data types like dictionaries, lists and other classes. Above, you saw that the assignment **copies** the value of the source into the destination. Below, the assignment only makes the destination a new **reference** to the source, so now both actually refer to the same object!"
   ]
  },
  {
   "cell_type": "code",
   "execution_count": 17,
   "metadata": {
    "collapsed": false
   },
   "outputs": [
    {
     "name": "stdout",
     "output_type": "stream",
     "text": [
      "{'Pete': 38645864758, 'John': 3957987, 'Anders': 2683647238647}\n",
      "{'Pete': 38645864758, 'John': 3957987, 'Anders': 2683647238647}\n",
      "{'Pete': 0, 'John': 3957987, 'Anders': 2683647238647}\n",
      "{'Pete': 0, 'John': 3957987, 'Anders': 2683647238647}\n"
     ]
    }
   ],
   "source": [
    "print pb\n",
    "print phonebook\n",
    "pb[\"Pete\"]=0\n",
    "print pb\n",
    "print phonebook"
   ]
  },
  {
   "cell_type": "markdown",
   "metadata": {},
   "source": [
    "Keys for dictionaries do not have to be strings. In principle any type can work. For instance integers:"
   ]
  },
  {
   "cell_type": "code",
   "execution_count": 18,
   "metadata": {
    "collapsed": false
   },
   "outputs": [
    {
     "name": "stdout",
     "output_type": "stream",
     "text": [
      "{2: 'even', 3: 'odd', 7: \"my sister's favorite number\"}\n"
     ]
    }
   ],
   "source": [
    "foobar=dict([(2,\"even\"),(3,\"odd\"),(7,\"my sister's favorite number\")])\n",
    "print foobar"
   ]
  },
  {
   "cell_type": "markdown",
   "metadata": {},
   "source": [
    "Functions\n",
    "---------"
   ]
  },
  {
   "cell_type": "markdown",
   "metadata": {},
   "source": [
    "With a function you effectively give a name to a piece of code of arbitrary length. You run that code any number of times by using that name. A function *can* (but does not have to) have arguments with input values, and it *may* (but does not have to) return a value (or a list of values). If a function ends without a return statement, it is equivalent to having `return None` statement. The `None` object is a special python object, that means \"undefined\" or \"not available\". If you use `None` in a boolean expression then it evaluates to `False`."
   ]
  },
  {
   "cell_type": "code",
   "execution_count": 19,
   "metadata": {
    "collapsed": false
   },
   "outputs": [
    {
     "name": "stdout",
     "output_type": "stream",
     "text": [
      "42\n",
      "64\n"
     ]
    }
   ],
   "source": [
    "def answer():\n",
    "    return 42\n",
    "\n",
    "print answer()\n",
    "\n",
    "def makt(x,n):\n",
    "    result = x**n\n",
    "    return result\n",
    "\n",
    "print makt(4,3)"
   ]
  },
  {
   "cell_type": "markdown",
   "metadata": {},
   "source": [
    "Function arguments can have default values. If you give a default value to an argument, then also all the following arguments should have a default value. You can use the value of global variables in a function, but if you want to change the value of a global value then you must declare that variable first."
   ]
  },
  {
   "cell_type": "code",
   "execution_count": 20,
   "metadata": {
    "collapsed": false
   },
   "outputs": [
    {
     "name": "stdout",
     "output_type": "stream",
     "text": [
      "42\n",
      "gg=385 s=foo\n",
      "385\n",
      "<type 'NoneType'>\n"
     ]
    }
   ],
   "source": [
    "gg=42\n",
    "\n",
    "def answer(i,s=\"foo\"):\n",
    "    global gg\n",
    "    xx=33\n",
    "    gg += i\n",
    "    print \"gg=%d s=%s\"%(gg,s)\n",
    "\n",
    "print gg\n",
    "x=answer(343)\n",
    "print gg\n",
    "#print xx\n",
    "print type(x)"
   ]
  },
  {
   "cell_type": "markdown",
   "metadata": {},
   "source": [
    "If you want to keep the number of arguments free, and/or you do not want to specify all names of arguments, then you may define your function with `*arg` and/or `**kwarg`. In the implementation of the function `arg` will hold a *list* of all \"positional arguments\", that is, arguments that the user of the function gave without a name. The `kwarg` object is a *dictionary* of argument name/value pairs."
   ]
  },
  {
   "cell_type": "code",
   "execution_count": 21,
   "metadata": {
    "collapsed": false
   },
   "outputs": [
    {
     "name": "stdout",
     "output_type": "stream",
     "text": [
      "(3, 5, 6, 1)\n",
      "{'foo': 'slkdjflk', 'bar': 3.44}\n"
     ]
    }
   ],
   "source": [
    "def flex(*arg,**kwarg):\n",
    "    print arg\n",
    "    print kwarg\n",
    "\n",
    "f=flex(3,5,6,1,foo=\"slkdjflk\",bar=3.44)"
   ]
  },
  {
   "cell_type": "markdown",
   "metadata": {},
   "source": [
    "You can use this `*`-notation also the other way round. For instance, if you have a list that holds all the positional arguments for a function, then you do not need to call that function with each list element separately:"
   ]
  },
  {
   "cell_type": "code",
   "execution_count": 22,
   "metadata": {
    "collapsed": false
   },
   "outputs": [
    {
     "name": "stdout",
     "output_type": "stream",
     "text": [
      "a=5\n",
      "c=66\n",
      "a=3\n",
      "c=66\n",
      "[66]\n"
     ]
    }
   ],
   "source": [
    "def threearg(a,b,c):\n",
    "    c[0]=66\n",
    "    print \"a=%s\"%a\n",
    "    print \"c=%s\"%c[0]\n",
    "\n",
    "b=[7]\n",
    "blah=[5,6,b,8]\n",
    "threearg(*blah[:3])\n",
    "aa=3\n",
    "bb=2342\n",
    "cc=b\n",
    "threearg(aa,bb,list(cc))\n",
    "print cc"
   ]
  },
  {
   "cell_type": "markdown",
   "metadata": {},
   "source": [
    "Note that we demonstrated here also that passing a value as an argument to a function is just like an assignment. And if the argument is e.g. a list, then it gets passed as a *reference*, so that if the function changes it, then it changes the original object, not a local copy."
   ]
  },
  {
   "cell_type": "markdown",
   "metadata": {},
   "source": [
    "Classes\n",
    "--------"
   ]
  },
  {
   "cell_type": "markdown",
   "metadata": {},
   "source": [
    "When you write a program you often need to describe an item with a collection of several values. And you may want to define operations on such collections of values. You could be tempted to do that all with dictionaries:"
   ]
  },
  {
   "cell_type": "code",
   "execution_count": 23,
   "metadata": {
    "collapsed": false
   },
   "outputs": [
    {
     "name": "stdout",
     "output_type": "stream",
     "text": [
      "x=4.000000\n"
     ]
    }
   ],
   "source": [
    "def printpoint(p):\n",
    "    print \"x=%f\"%p[\"x\"]\n",
    "    \n",
    "def makepoint(x=0.,y=0.,z=0.):\n",
    "    pt={\"x\":x,\"y\":y,\"z\":z}\n",
    "    return pt\n",
    "\n",
    "pt=makepoint(4.,5.,7.)\n",
    "printpoint(pt)"
   ]
  },
  {
   "cell_type": "markdown",
   "metadata": {},
   "source": [
    "But there is a better way.\n",
    "\n",
    "The set of properties and behaviors of an object are given by its type. You can define a new type by defining a \"class\". A class has \"data members\" (values associated with properties of an object of that class) and \"methods\" (functions that involve an object of that class)."
   ]
  },
  {
   "cell_type": "code",
   "execution_count": 24,
   "metadata": {
    "collapsed": false
   },
   "outputs": [
    {
     "name": "stdout",
     "output_type": "stream",
     "text": [
      "x=4.000000\n",
      "[x=0.000000 y=0.000000 z=0.000000, x=0.000000 y=0.000000 z=0.000000, x=3.000000 y=0.000000 z=0.000000]\n",
      "777777777777\n"
     ]
    }
   ],
   "source": [
    "class point(object):\n",
    "    def __init__(self,x=0.,y=0.,z=0.):\n",
    "        self.x = x\n",
    "        self.y = y\n",
    "        self.z = z\n",
    "    def show(self):\n",
    "        print(\"x=%f\"%self.x)\n",
    "    def getx(self):\n",
    "        return self.x\n",
    "    def setx(self,newx):\n",
    "        self.x=newx\n",
    "    def __repr__(self):\n",
    "        return \"x=%f y=%f z=%f\"%(self.x,self.y,self.z)\n",
    "\n",
    "newpt=point(4.,5.,7.)\n",
    "newpt.show()\n",
    "\n",
    "points=list([point(),point(),point(3.)])\n",
    "print points\n",
    "newpt.setx(777777777777)\n",
    "print newpt.getx()"
   ]
  },
  {
   "cell_type": "markdown",
   "metadata": {},
   "source": [
    "All methods have the `self` argument as first argument. This always refers to the object on which a method is called.\n",
    "The most important method is the `__init__(self,args)`, which should always be defined for a class, otherwise it's impossible to make any objects of that class. It invoked implicitly when you create on object as `classname(args)`, as illustrated above for the `point` class.\n",
    "\n",
    "As you can see there are some many special methods, indicated by double underscores around the method name. Those methods are also usually implicitly used. For instance, the `__repr__` method is used to get a string representation of the object whenever it needs to be printed in a text."
   ]
  },
  {
   "cell_type": "markdown",
   "metadata": {},
   "source": [
    "Modules\n",
    "--------"
   ]
  },
  {
   "cell_type": "markdown",
   "metadata": {},
   "source": [
    "There are lots of useful python classes and functions available, but if those would all be directly in the python program executable then this executable would be way to big, it would take a very long time to just start the program. Hence these useful things are defined in extensions, so-called \"modules\". When you need functionality from such an extension, you need to \"import\" the relevant \"modules\".\n",
    "\n",
    "When you \"import\" a module, then all its functions and classes need to be prefixed with the module's name. This is good, because sometimes different modules use the same names for their new special functionality, so the prefix makes it unambiguous which one you want to have. Still, if you would like to shorten your code, then you can introduce abbreviations (`import longmodulename as L`). You *can* import all features (functions, classes, objects) from a module (`from modulename import *`) but this is often a bad idea, because you import much more than you actually need."
   ]
  },
  {
   "cell_type": "code",
   "execution_count": 25,
   "metadata": {
    "collapsed": false
   },
   "outputs": [
    {
     "name": "stdout",
     "output_type": "stream",
     "text": [
      "3.14159265359\n",
      "3.14159265359\n",
      "/home/boersma/Work/Education/Statistics_HT2015/code/trafo\n"
     ]
    }
   ],
   "source": [
    "# from numpy import *\n",
    "import numpy as np\n",
    "import math\n",
    "print np.pi\n",
    "print math.pi\n",
    "import os,sys\n",
    "print os.environ[\"PWD\"]"
   ]
  },
  {
   "cell_type": "markdown",
   "metadata": {},
   "source": [
    "You can define your own modules! That is even very recommended. You will probably define some functions and classes which you would like to reuse in several other scripts. You can save them into their own separate file, and then you can import that file (without the \".py\" extension) to get all objects/functions/classes defined in it. This is similar to having an `#include` statement in C++ code.\n",
    "\n",
    "Your module(s) do not have to be necessarily in the same directory as where your script it. But if you store it somewhere else (often a good idea) then you should make sure that python can actually find it. You do this by adding this directory to the `PYTHONPATH` shell environment variable (that is on UNIX/Linux/MacOSX, on Windows I think you need to do something with the \"registry\"). You can also import the `sys` module and append/prepend/insert the full path of that directory to the `sys.path` list.\n",
    "\n",
    "For the example below we copied a renamed version of the above defined `point` class into a file called `mypoint.py`."
   ]
  },
  {
   "cell_type": "code",
   "execution_count": 26,
   "metadata": {
    "collapsed": false
   },
   "outputs": [
    {
     "name": "stdout",
     "output_type": "stream",
     "text": [
      "loaded!\n",
      "x=3.000000 y=5.000000 z=6.000000\n",
      "['', '/usr/local/lib/python2.7/dist-packages/Sphinx-1.2.1-py2.7.egg', '/usr/local/lib/python2.7/dist-packages/pydicom-1.0.0-py2.7.egg', '/usr/local/lib/python2.7/dist-packages/SimpleITK-0.9.1-py2.7-linux-x86_64.egg', '/usr/lib/python2.7', '/usr/lib/python2.7/plat-x86_64-linux-gnu', '/usr/lib/python2.7/lib-tk', '/usr/lib/python2.7/lib-old', '/usr/lib/python2.7/lib-dynload', '/home/boersma/.local/lib/python2.7/site-packages', '/usr/local/lib/python2.7/dist-packages', '/usr/lib/python2.7/dist-packages', '/usr/lib/python2.7/dist-packages/PILcompat', '/usr/lib/python2.7/dist-packages/gst-0.10', '/usr/lib/python2.7/dist-packages/gtk-2.0', '/usr/lib/pymodules/python2.7', '/usr/lib/python2.7/dist-packages/ubuntu-sso-client', '/usr/local/lib/python2.7/dist-packages/IPython/extensions', '/home/boersma/.ipython']\n"
     ]
    }
   ],
   "source": [
    "from mypoint import mypoint\n",
    "mynewpt=mypoint(3.,5.,6.)\n",
    "print mynewpt\n",
    "print sys.path\n",
    "#print os.environ[\"PYTHONPATH\"]"
   ]
  },
  {
   "cell_type": "markdown",
   "metadata": {},
   "source": [
    "File I/O\n",
    "--------"
   ]
  },
  {
   "cell_type": "markdown",
   "metadata": {},
   "source": [
    "We were a bit in a hurry when we discussed this, there was not much time left. The `open` function is used to open files for reading and writing. It returns a `File` object that can for instance be looped over to access its contents."
   ]
  },
  {
   "cell_type": "code",
   "execution_count": 27,
   "metadata": {
    "collapsed": false
   },
   "outputs": [
    {
     "name": "stdout",
     "output_type": "stream",
     "text": [
      "class mypoint(object):\n",
      "===    def __init__(self,x=0.,y=0.,z=0.):\n",
      "===        self.x = x\n",
      "===        self.y = y\n",
      "===        self.z = z\n",
      "===    def show(self):\n",
      "===        print(\"x=%f\"%self.x)\n",
      "===    def getx(self):\n",
      "===        return self.x\n",
      "===    def setx(self,newx):\n",
      "===        self.x=newx\n",
      "===    def __repr__(self):\n",
      "===        return \"x=%f y=%f z=%f\"%(self.x,self.y,self.z)\n",
      "===\n",
      "===print \"loaded!\"\n",
      "\n"
     ]
    }
   ],
   "source": [
    "print \"===\".join(open(\"mypoint.py\").readlines())"
   ]
  },
  {
   "cell_type": "markdown",
   "metadata": {},
   "source": [
    "In order to *write* a file, you should `open` the file with an extra `\"w\"` argument."
   ]
  },
  {
   "cell_type": "code",
   "execution_count": 28,
   "metadata": {
    "collapsed": false
   },
   "outputs": [
    {
     "name": "stdout",
     "output_type": "stream",
     "text": [
      "3 4 5 6\n",
      "7 8 9 42\n",
      "X3 4 5 6X\n",
      "X7 8 9 42X\n",
      "[[3, 4, 5, 6], [7, 8, 9, 42]]\n"
     ]
    }
   ],
   "source": [
    "f=open(\"newfile.txt\",\"w\")\n",
    "f.write(\"3 4 5 6\\n\")\n",
    "f.write(\"7 8 \")\n",
    "f.write(\"9 %d\" % 42)\n",
    "f.close()\n",
    "print \"\".join(open(\"newfile.txt\").readlines())\n",
    "matrix=[]\n",
    "for line in open(\"newfile.txt\"):\n",
    "    print \"X%sX\" % line.strip()\n",
    "    matrix.append([int(word) for word in line.strip().split()])\n",
    "print matrix"
   ]
  },
  {
   "cell_type": "markdown",
   "metadata": {},
   "source": [
    "N-dimensional arrays and plotting (numpy and matplotlib)\n",
    "---------------------------------------------------------"
   ]
  },
  {
   "cell_type": "markdown",
   "metadata": {},
   "source": [
    "`numpy` is a big module that provides powerful methods to do calculations with arbitrary amounts of data (numbers). It provides the `ndarray` class, often just called `array`. There is a zoo of functions that can do useful things, like:\n",
    "* instantiate an array, initialized with zeros, ones, random numbers, or a range of numbers\n",
    "* calculate the sin/cos/tan/sqrt/log/whatever of all array elements\n",
    "* sort, reverse, create a new array with the differences\n",
    "* compute statistical quantities like min, max, std, mean, median\n",
    "* etc\n",
    "\n",
    "Numpy arrays can also be added/subtracted/multiplied with each other, without coding any loops. This is *much* faster than doing the same thing with a regular python list of numbers. Numpy arrays are also used in many utilities of `scipy`, a big module with a wealth of useful scientific tools, which basically make `matlab` superfluous.\n",
    "\n",
    "The `matplotlib` module provides lots of pretty plotting functionality. Too much to list all of it here. Find the documentation on http://www.scipy.org. There are reference manuals, tutorials, cookbooks, plenty of information to get inspiration for your own plotting needs. For reasons that are not clear to me, we usually write `import pylab` instead of `import matplotlib` in order to import the matplotlib functionality."
   ]
  },
  {
   "cell_type": "markdown",
   "metadata": {},
   "source": [
    "The following line is not python. Commands that start with a percent sign (`%`) are so-called \"magic commands\" which serve to customize the *notebook* interface. This line here tells notebook that we would like the graphical output from `matplotlib` to be displayed inline on the page. It is possible to have it displayed in other ways, e.g. in a separate window, but that is less useful for sharing this material online. During the lecture I was using `%pylab inline` to request inline plots, but that command also performs a `from import numpy import *` and `from pylab import *`, which is a too aggressive import, as explained above."
   ]
  },
  {
   "cell_type": "code",
   "execution_count": null,
   "metadata": {
    "collapsed": true
   },
   "outputs": [],
   "source": [
    "%matplotlib inline"
   ]
  },
  {
   "cell_type": "code",
   "execution_count": null,
   "metadata": {
    "collapsed": true
   },
   "outputs": [],
   "source": [
    "This is a better way to import numpy and "
   ]
  },
  {
   "cell_type": "code",
   "execution_count": 29,
   "metadata": {
    "collapsed": false
   },
   "outputs": [],
   "source": [
    "import numpy as np\n",
    "import pylab"
   ]
  },
  {
   "cell_type": "code",
   "execution_count": 30,
   "metadata": {
    "collapsed": false
   },
   "outputs": [
    {
     "data": {
      "image/png": "[encoded data removed]",
      "text/plain": [
       "<matplotlib.figure.Figure at 0x3724810>"
      ]
     },
     "metadata": {},
     "output_type": "display_data"
    }
   ],
   "source": [
    "x=np.linspace(0.,100.,51,True)\n",
    "y=(x-20)*(x-40)*(x-90)\n",
    "y2=1.3*(x-30)*(x-50)*(x-80)\n",
    "\n",
    "f1=pylab.figure(1,figsize=[12,6])\n",
    "ax1=f1.add_subplot(111)\n",
    "ax1.tick_params(labelsize=18)\n",
    "pylab.plot(x,y,'ro',lw=3,ms=10,label=\"the right answer\")\n",
    "pylab.plot(x,y2,'mH',lw=3,ms=10,label=\"the wrong answer\")\n",
    "pylab.legend(loc='upper left',fontsize=24)\n",
    "pylab.ylabel(\"velocity [m/s]\",fontsize=18)\n",
    "pylab.xlabel(\"time [fortnights]\",fontsize=18)\n",
    "pylab.grid()"
   ]
  },
  {
   "cell_type": "code",
   "execution_count": 31,
   "metadata": {
    "collapsed": false
   },
   "outputs": [
    {
     "data": {
      "image/png": "[encoded data removed]",
      "text/plain": [
       "<matplotlib.figure.Figure at 0x3729ed0>"
      ]
     },
     "metadata": {},
     "output_type": "display_data"
    }
   ],
   "source": [
    "mydata=np.random.normal(33.,44,1000)\n",
    "h,e=np.histogram(mydata,bins=30,range=(-100,+200))\n",
    "pylab.bar(e[:-1],h,300./30,color='m',lw=0);"
   ]
  },
  {
   "cell_type": "code",
   "execution_count": 33,
   "metadata": {
    "collapsed": false
   },
   "outputs": [
    {
     "name": "stdout",
     "output_type": "stream",
     "text": [
      "(100, 100)\n"
     ]
    },
    {
     "data": {
      "text/plain": [
       "<matplotlib.colorbar.Colorbar instance at 0x3c8a908>"
      ]
     },
     "execution_count": 33,
     "metadata": {},
     "output_type": "execute_result"
    },
    {
     "data": {
      "image/png": "[encoded data removed]",
      "text/plain": [
       "<matplotlib.figure.Figure at 0x3ce19d0>"
      ]
     },
     "metadata": {},
     "output_type": "display_data"
    }
   ],
   "source": [
    "ct=np.random.normal(0.,10.,(100,100,100))\n",
    "values=np.linspace(-49.5,49.5,100,True)\n",
    "x,y,z=pylab.meshgrid(values,values,values)\n",
    "ct+=60*np.exp(-0.001*(x**2+y**2+z**2))\n",
    "print ct[50].shape\n",
    "pylab.imshow(ct[50],extent=[0,33,0,33])\n",
    "pylab.colorbar()"
   ]
  },
  {
   "cell_type": "markdown",
   "metadata": {},
   "source": [
    "Help!\n",
    "-----"
   ]
  },
  {
   "cell_type": "markdown",
   "metadata": {},
   "source": [
    "You can find lots of help online, of course, for instance on the python and scipy home pages. But also a lot of the python objects and functions have *built-in* help. The `help()` function can be used to query the docs of any object, function, class or module. Not all python objects are equally well documented, some don't have any docs at all, unfortunately. In notebook you can also query help by using the `Tab` key or by appendin `?` or `??` after the thing you would like to know more about.\n",
    "\n",
    "In your own code you should of course also provide lots of docs. For your colleagues, and for your future self to remember what it was all about. For instance:"
   ]
  },
  {
   "cell_type": "code",
   "execution_count": 35,
   "metadata": {
    "collapsed": false
   },
   "outputs": [
    {
     "name": "stdout",
     "output_type": "stream",
     "text": [
      "Help on function nifty in module __main__:\n",
      "\n",
      "nifty(x)\n",
      "    This is a cool function that returns the square of its argument!\n",
      "\n"
     ]
    }
   ],
   "source": [
    "def nifty(x):\n",
    "    \"\"\"This is a cool function that returns the square of its argument!\n",
    "    \"\"\"\n",
    "    return x*x\n",
    "\n",
    "help(nifty)"
   ]
  },
  {
   "cell_type": "code",
   "execution_count": 36,
   "metadata": {
    "collapsed": false
   },
   "outputs": [
    {
     "name": "stdout",
     "output_type": "stream",
     "text": [
      "Help on function imshow in module matplotlib.pyplot:\n",
      "\n",
      "imshow(X, cmap=None, norm=None, aspect=None, interpolation=None, alpha=None, vmin=None, vmax=None, origin=None, extent=None, shape=None, filternorm=1, filterrad=4.0, imlim=None, resample=None, url=None, hold=None, **kwargs)\n",
      "    Display an image on the axes.\n",
      "    \n",
      "    Call signature::\n",
      "    \n",
      "      imshow(X, cmap=None, norm=None, aspect=None, interpolation=None,\n",
      "             alpha=None, vmin=None, vmax=None, origin=None, extent=None,\n",
      "             **kwargs)\n",
      "    \n",
      "    Display the image in *X* to current axes.  *X* may be a float\n",
      "    array, a uint8 array or a PIL image. If *X* is an array, *X*\n",
      "    can have the following shapes:\n",
      "    \n",
      "    * MxN -- luminance (grayscale, float array only)\n",
      "    * MxNx3 -- RGB (float or uint8 array)\n",
      "    * MxNx4 -- RGBA (float or uint8 array)\n",
      "    \n",
      "    The value for each component of MxNx3 and MxNx4 float arrays should be\n",
      "    in the range 0.0 to 1.0; MxN float arrays may be normalised.\n",
      "    \n",
      "    An :class:`matplotlib.image.AxesImage` instance is returned.\n",
      "    \n",
      "    Keyword arguments:\n",
      "    \n",
      "      *cmap*: [ *None* | Colormap ]\n",
      "        A :class:`matplotlib.colors.Colormap` instance, eg. cm.jet.\n",
      "        If *None*, default to rc ``image.cmap`` value.\n",
      "    \n",
      "        *cmap* is ignored when *X* has RGB(A) information\n",
      "    \n",
      "      *aspect*: [ *None* | 'auto' | 'equal' | scalar ]\n",
      "        If 'auto', changes the image aspect ratio to match that of the axes\n",
      "    \n",
      "        If 'equal', and *extent* is *None*, changes the axes\n",
      "        aspect ratio to match that of the image. If *extent* is\n",
      "        not *None*, the axes aspect ratio is changed to match that\n",
      "        of the extent.\n",
      "    \n",
      "        If *None*, default to rc ``image.aspect`` value.\n",
      "    \n",
      "      *interpolation*:\n",
      "    \n",
      "        Acceptable values are *None*, 'none', 'nearest', 'bilinear',\n",
      "        'bicubic', 'spline16', 'spline36', 'hanning', 'hamming',\n",
      "        'hermite', 'kaiser', 'quadric', 'catrom', 'gaussian',\n",
      "        'bessel', 'mitchell', 'sinc', 'lanczos'\n",
      "    \n",
      "        If *interpolation* is *None*, default to rc\n",
      "        ``image.interpolation``. See also the *filternorm* and\n",
      "        *filterrad* parameters\n",
      "    \n",
      "        If *interpolation* is ``'none'``, then no interpolation is\n",
      "        performed on the Agg, ps and pdf backends. Other backends\n",
      "        will fall back to 'nearest'.\n",
      "    \n",
      "      *norm*: [ *None* | Normalize ]\n",
      "        An :class:`matplotlib.colors.Normalize` instance; if\n",
      "        *None*, default is ``normalization()``.  This scales\n",
      "        luminance -> 0-1\n",
      "    \n",
      "        *norm* is only used for an MxN float array.\n",
      "    \n",
      "      *vmin*/*vmax*: [ *None* | scalar ]\n",
      "        Used to scale a luminance image to 0-1.  If either is\n",
      "        *None*, the min and max of the luminance values will be\n",
      "        used.  Note if *norm* is not *None*, the settings for\n",
      "        *vmin* and *vmax* will be ignored.\n",
      "    \n",
      "      *alpha*: scalar\n",
      "        The alpha blending value, between 0 (transparent) and 1 (opaque)\n",
      "        or *None*\n",
      "    \n",
      "      *origin*: [ *None* | 'upper' | 'lower' ]\n",
      "        Place the [0,0] index of the array in the upper left or lower left\n",
      "        corner of the axes. If *None*, default to rc ``image.origin``.\n",
      "    \n",
      "      *extent*: [ *None* | scalars (left, right, bottom, top) ]\n",
      "        Data limits for the axes.  The default assigns zero-based row,\n",
      "        column indices to the *x*, *y* centers of the pixels.\n",
      "    \n",
      "      *shape*: [ *None* | scalars (columns, rows) ]\n",
      "        For raw buffer images\n",
      "    \n",
      "      *filternorm*:\n",
      "        A parameter for the antigrain image resize filter.  From the\n",
      "        antigrain documentation, if *filternorm* = 1, the filter normalizes\n",
      "        integer values and corrects the rounding errors. It doesn't do\n",
      "        anything with the source floating point values, it corrects only\n",
      "        integers according to the rule of 1.0 which means that any sum of\n",
      "        pixel weights must be equal to 1.0.  So, the filter function must\n",
      "        produce a graph of the proper shape.\n",
      "    \n",
      "      *filterrad*:\n",
      "        The filter radius for filters that have a radius\n",
      "        parameter, i.e. when interpolation is one of: 'sinc',\n",
      "        'lanczos' or 'blackman'\n",
      "    \n",
      "    Additional kwargs are :class:`~matplotlib.artist.Artist` properties.\n",
      "    \n",
      "      agg_filter: unknown\n",
      "      alpha: float (0.0 transparent through 1.0 opaque)         \n",
      "      animated: [True | False]         \n",
      "      axes: an :class:`~matplotlib.axes.Axes` instance         \n",
      "      clip_box: a :class:`matplotlib.transforms.Bbox` instance         \n",
      "      clip_on: [True | False]         \n",
      "      clip_path: [ (:class:`~matplotlib.path.Path`,         :class:`~matplotlib.transforms.Transform`) |         :class:`~matplotlib.patches.Patch` | None ]         \n",
      "      contains: a callable function         \n",
      "      figure: a :class:`matplotlib.figure.Figure` instance         \n",
      "      gid: an id string         \n",
      "      label: string or anything printable with '%s' conversion.         \n",
      "      lod: [True | False]         \n",
      "      picker: [None|float|boolean|callable]         \n",
      "      rasterized: [True | False | None]         \n",
      "      snap: unknown\n",
      "      transform: :class:`~matplotlib.transforms.Transform` instance         \n",
      "      url: a url string         \n",
      "      visible: [True | False]         \n",
      "      zorder: any number         \n",
      "    \n",
      "    **Example:**\n",
      "    \n",
      "    .. plot:: mpl_examples/pylab_examples/image_demo.py\n",
      "    \n",
      "    Additional kwargs: hold = [True|False] overrides default hold state\n",
      "\n"
     ]
    }
   ],
   "source": [
    "help(pylab.imshow)"
   ]
  },
  {
   "cell_type": "code",
   "execution_count": 37,
   "metadata": {
    "collapsed": false
   },
   "outputs": [
    {
     "name": "stdout",
     "output_type": "stream",
     "text": [
      "Help on function plot in module matplotlib.pyplot:\n",
      "\n",
      "plot(*args, **kwargs)\n",
      "    Plot lines and/or markers to the\n",
      "    :class:`~matplotlib.axes.Axes`.  *args* is a variable length\n",
      "    argument, allowing for multiple *x*, *y* pairs with an\n",
      "    optional format string.  For example, each of the following is\n",
      "    legal::\n",
      "    \n",
      "        plot(x, y)         # plot x and y using default line style and color\n",
      "        plot(x, y, 'bo')   # plot x and y using blue circle markers\n",
      "        plot(y)            # plot y using x as index array 0..N-1\n",
      "        plot(y, 'r+')      # ditto, but with red plusses\n",
      "    \n",
      "    If *x* and/or *y* is 2-dimensional, then the corresponding columns\n",
      "    will be plotted.\n",
      "    \n",
      "    An arbitrary number of *x*, *y*, *fmt* groups can be\n",
      "    specified, as in::\n",
      "    \n",
      "        a.plot(x1, y1, 'g^', x2, y2, 'g-')\n",
      "    \n",
      "    Return value is a list of lines that were added.\n",
      "    \n",
      "    By default, each line is assigned a different color specified by a\n",
      "    'color cycle'.  To change this behavior, you can edit the\n",
      "    axes.color_cycle rcParam. Alternatively, you can use\n",
      "    :meth:`~matplotlib.axes.Axes.set_default_color_cycle`.\n",
      "    \n",
      "    The following format string characters are accepted to control\n",
      "    the line style or marker:\n",
      "    \n",
      "    ================    ===============================\n",
      "    character           description\n",
      "    ================    ===============================\n",
      "    ``'-'``             solid line style\n",
      "    ``'--'``            dashed line style\n",
      "    ``'-.'``            dash-dot line style\n",
      "    ``':'``             dotted line style\n",
      "    ``'.'``             point marker\n",
      "    ``','``             pixel marker\n",
      "    ``'o'``             circle marker\n",
      "    ``'v'``             triangle_down marker\n",
      "    ``'^'``             triangle_up marker\n",
      "    ``'<'``             triangle_left marker\n",
      "    ``'>'``             triangle_right marker\n",
      "    ``'1'``             tri_down marker\n",
      "    ``'2'``             tri_up marker\n",
      "    ``'3'``             tri_left marker\n",
      "    ``'4'``             tri_right marker\n",
      "    ``'s'``             square marker\n",
      "    ``'p'``             pentagon marker\n",
      "    ``'*'``             star marker\n",
      "    ``'h'``             hexagon1 marker\n",
      "    ``'H'``             hexagon2 marker\n",
      "    ``'+'``             plus marker\n",
      "    ``'x'``             x marker\n",
      "    ``'D'``             diamond marker\n",
      "    ``'d'``             thin_diamond marker\n",
      "    ``'|'``             vline marker\n",
      "    ``'_'``             hline marker\n",
      "    ================    ===============================\n",
      "    \n",
      "    \n",
      "    The following color abbreviations are supported:\n",
      "    \n",
      "    ==========  ========\n",
      "    character   color\n",
      "    ==========  ========\n",
      "    'b'         blue\n",
      "    'g'         green\n",
      "    'r'         red\n",
      "    'c'         cyan\n",
      "    'm'         magenta\n",
      "    'y'         yellow\n",
      "    'k'         black\n",
      "    'w'         white\n",
      "    ==========  ========\n",
      "    \n",
      "    In addition, you can specify colors in many weird and\n",
      "    wonderful ways, including full names (``'green'``), hex\n",
      "    strings (``'#008000'``), RGB or RGBA tuples (``(0,1,0,1)``) or\n",
      "    grayscale intensities as a string (``'0.8'``).  Of these, the\n",
      "    string specifications can be used in place of a ``fmt`` group,\n",
      "    but the tuple forms can be used only as ``kwargs``.\n",
      "    \n",
      "    Line styles and colors are combined in a single format string, as in\n",
      "    ``'bo'`` for blue circles.\n",
      "    \n",
      "    The *kwargs* can be used to set line properties (any property that has\n",
      "    a ``set_*`` method).  You can use this to set a line label (for auto\n",
      "    legends), linewidth, anitialising, marker face color, etc.  Here is an\n",
      "    example::\n",
      "    \n",
      "        plot([1,2,3], [1,2,3], 'go-', label='line 1', linewidth=2)\n",
      "        plot([1,2,3], [1,4,9], 'rs',  label='line 2')\n",
      "        axis([0, 4, 0, 10])\n",
      "        legend()\n",
      "    \n",
      "    If you make multiple lines with one plot command, the kwargs\n",
      "    apply to all those lines, e.g.::\n",
      "    \n",
      "        plot(x1, y1, x2, y2, antialised=False)\n",
      "    \n",
      "    Neither line will be antialiased.\n",
      "    \n",
      "    You do not need to use format strings, which are just\n",
      "    abbreviations.  All of the line properties can be controlled\n",
      "    by keyword arguments.  For example, you can set the color,\n",
      "    marker, linestyle, and markercolor with::\n",
      "    \n",
      "        plot(x, y, color='green', linestyle='dashed', marker='o',\n",
      "             markerfacecolor='blue', markersize=12).\n",
      "    \n",
      "    See :class:`~matplotlib.lines.Line2D` for details.\n",
      "    \n",
      "    The kwargs are :class:`~matplotlib.lines.Line2D` properties:\n",
      "    \n",
      "      agg_filter: unknown\n",
      "      alpha: float (0.0 transparent through 1.0 opaque)         \n",
      "      animated: [True | False]         \n",
      "      antialiased or aa: [True | False]         \n",
      "      axes: an :class:`~matplotlib.axes.Axes` instance         \n",
      "      clip_box: a :class:`matplotlib.transforms.Bbox` instance         \n",
      "      clip_on: [True | False]         \n",
      "      clip_path: [ (:class:`~matplotlib.path.Path`,         :class:`~matplotlib.transforms.Transform`) |         :class:`~matplotlib.patches.Patch` | None ]         \n",
      "      color or c: any matplotlib color         \n",
      "      contains: a callable function         \n",
      "      dash_capstyle: ['butt' | 'round' | 'projecting']         \n",
      "      dash_joinstyle: ['miter' | 'round' | 'bevel']         \n",
      "      dashes: sequence of on/off ink in points         \n",
      "      data: 2D array (rows are x, y) or two 1D arrays         \n",
      "      drawstyle: [ 'default' | 'steps' | 'steps-pre' | 'steps-mid' | 'steps-post' ]         \n",
      "      figure: a :class:`matplotlib.figure.Figure` instance         \n",
      "      fillstyle: ['full' | 'left' | 'right' | 'bottom' | 'top' | 'none']         \n",
      "      gid: an id string         \n",
      "      label: string or anything printable with '%s' conversion.         \n",
      "      linestyle or ls: [ ``'-'`` | ``'--'`` | ``'-.'`` | ``':'`` | ``'None'`` | ``' '`` | ``''`` ]         and any drawstyle in combination with a linestyle, e.g. ``'steps--'``.         \n",
      "      linewidth or lw: float value in points         \n",
      "      lod: [True | False]         \n",
      "      marker: [ ``7`` | ``4`` | ``5`` | ``6`` | ``'o'`` | ``'D'`` | ``'h'`` | ``'H'`` | ``'_'`` | ``None`` | ``'None'`` | ``' '`` | ``''`` | ``'8'`` | ``'p'`` | ``','`` | ``'+'`` | ``'.'`` | ``'s'`` | ``'*'`` | ``'d'`` | ``3`` | ``0`` | ``1`` | ``2`` | ``'1'`` | ``'3'`` | ``'4'`` | ``'2'`` | ``'v'`` | ``'<'`` | ``'>'`` | ``'^'`` | ``'|'`` | ``'x'`` | ``'$...$'`` | *tuple* | *Nx2 array* ]\n",
      "      markeredgecolor or mec: any matplotlib color         \n",
      "      markeredgewidth or mew: float value in points         \n",
      "      markerfacecolor or mfc: any matplotlib color         \n",
      "      markerfacecoloralt or mfcalt: any matplotlib color         \n",
      "      markersize or ms: float         \n",
      "      markevery: None | integer | (startind, stride)\n",
      "      picker: float distance in points or callable pick function         ``fn(artist, event)``         \n",
      "      pickradius: float distance in points         \n",
      "      rasterized: [True | False | None]         \n",
      "      snap: unknown\n",
      "      solid_capstyle: ['butt' | 'round' |  'projecting']         \n",
      "      solid_joinstyle: ['miter' | 'round' | 'bevel']         \n",
      "      transform: a :class:`matplotlib.transforms.Transform` instance         \n",
      "      url: a url string         \n",
      "      visible: [True | False]         \n",
      "      xdata: 1D array         \n",
      "      ydata: 1D array         \n",
      "      zorder: any number         \n",
      "    \n",
      "    kwargs *scalex* and *scaley*, if defined, are passed on to\n",
      "    :meth:`~matplotlib.axes.Axes.autoscale_view` to determine\n",
      "    whether the *x* and *y* axes are autoscaled; the default is\n",
      "    *True*.\n",
      "    \n",
      "    Additional kwargs: hold = [True|False] overrides default hold state\n",
      "\n"
     ]
    }
   ],
   "source": [
    "help(pylab.plot)"
   ]
  },
  {
   "cell_type": "code",
   "execution_count": 38,
   "metadata": {
    "collapsed": false
   },
   "outputs": [
    {
     "name": "stdout",
     "output_type": "stream",
     "text": [
      "Help on class list in module __builtin__:\n",
      "\n",
      "class list(object)\n",
      " |  list() -> new empty list\n",
      " |  list(iterable) -> new list initialized from iterable's items\n",
      " |  \n",
      " |  Methods defined here:\n",
      " |  \n",
      " |  __add__(...)\n",
      " |      x.__add__(y) <==> x+y\n",
      " |  \n",
      " |  __contains__(...)\n",
      " |      x.__contains__(y) <==> y in x\n",
      " |  \n",
      " |  __delitem__(...)\n",
      " |      x.__delitem__(y) <==> del x[y]\n",
      " |  \n",
      " |  __delslice__(...)\n",
      " |      x.__delslice__(i, j) <==> del x[i:j]\n",
      " |      \n",
      " |      Use of negative indices is not supported.\n",
      " |  \n",
      " |  __eq__(...)\n",
      " |      x.__eq__(y) <==> x==y\n",
      " |  \n",
      " |  __ge__(...)\n",
      " |      x.__ge__(y) <==> x>=y\n",
      " |  \n",
      " |  __getattribute__(...)\n",
      " |      x.__getattribute__('name') <==> x.name\n",
      " |  \n",
      " |  __getitem__(...)\n",
      " |      x.__getitem__(y) <==> x[y]\n",
      " |  \n",
      " |  __getslice__(...)\n",
      " |      x.__getslice__(i, j) <==> x[i:j]\n",
      " |      \n",
      " |      Use of negative indices is not supported.\n",
      " |  \n",
      " |  __gt__(...)\n",
      " |      x.__gt__(y) <==> x>y\n",
      " |  \n",
      " |  __iadd__(...)\n",
      " |      x.__iadd__(y) <==> x+=y\n",
      " |  \n",
      " |  __imul__(...)\n",
      " |      x.__imul__(y) <==> x*=y\n",
      " |  \n",
      " |  __init__(...)\n",
      " |      x.__init__(...) initializes x; see help(type(x)) for signature\n",
      " |  \n",
      " |  __iter__(...)\n",
      " |      x.__iter__() <==> iter(x)\n",
      " |  \n",
      " |  __le__(...)\n",
      " |      x.__le__(y) <==> x<=y\n",
      " |  \n",
      " |  __len__(...)\n",
      " |      x.__len__() <==> len(x)\n",
      " |  \n",
      " |  __lt__(...)\n",
      " |      x.__lt__(y) <==> x<y\n",
      " |  \n",
      " |  __mul__(...)\n",
      " |      x.__mul__(n) <==> x*n\n",
      " |  \n",
      " |  __ne__(...)\n",
      " |      x.__ne__(y) <==> x!=y\n",
      " |  \n",
      " |  __repr__(...)\n",
      " |      x.__repr__() <==> repr(x)\n",
      " |  \n",
      " |  __reversed__(...)\n",
      " |      L.__reversed__() -- return a reverse iterator over the list\n",
      " |  \n",
      " |  __rmul__(...)\n",
      " |      x.__rmul__(n) <==> n*x\n",
      " |  \n",
      " |  __setitem__(...)\n",
      " |      x.__setitem__(i, y) <==> x[i]=y\n",
      " |  \n",
      " |  __setslice__(...)\n",
      " |      x.__setslice__(i, j, y) <==> x[i:j]=y\n",
      " |      \n",
      " |      Use  of negative indices is not supported.\n",
      " |  \n",
      " |  __sizeof__(...)\n",
      " |      L.__sizeof__() -- size of L in memory, in bytes\n",
      " |  \n",
      " |  append(...)\n",
      " |      L.append(object) -- append object to end\n",
      " |  \n",
      " |  count(...)\n",
      " |      L.count(value) -> integer -- return number of occurrences of value\n",
      " |  \n",
      " |  extend(...)\n",
      " |      L.extend(iterable) -- extend list by appending elements from the iterable\n",
      " |  \n",
      " |  index(...)\n",
      " |      L.index(value, [start, [stop]]) -> integer -- return first index of value.\n",
      " |      Raises ValueError if the value is not present.\n",
      " |  \n",
      " |  insert(...)\n",
      " |      L.insert(index, object) -- insert object before index\n",
      " |  \n",
      " |  pop(...)\n",
      " |      L.pop([index]) -> item -- remove and return item at index (default last).\n",
      " |      Raises IndexError if list is empty or index is out of range.\n",
      " |  \n",
      " |  remove(...)\n",
      " |      L.remove(value) -- remove first occurrence of value.\n",
      " |      Raises ValueError if the value is not present.\n",
      " |  \n",
      " |  reverse(...)\n",
      " |      L.reverse() -- reverse *IN PLACE*\n",
      " |  \n",
      " |  sort(...)\n",
      " |      L.sort(cmp=None, key=None, reverse=False) -- stable sort *IN PLACE*;\n",
      " |      cmp(x, y) -> -1, 0, 1\n",
      " |  \n",
      " |  ----------------------------------------------------------------------\n",
      " |  Data and other attributes defined here:\n",
      " |  \n",
      " |  __hash__ = None\n",
      " |  \n",
      " |  __new__ = <built-in method __new__ of type object>\n",
      " |      T.__new__(S, ...) -> a new object with type S, a subtype of T\n",
      "\n"
     ]
    }
   ],
   "source": [
    "help(list)"
   ]
  },
  {
   "cell_type": "code",
   "execution_count": 45,
   "metadata": {
    "collapsed": true
   },
   "outputs": [],
   "source": [
    "%magic"
   ]
  },
  {
   "cell_type": "code",
   "execution_count": null,
   "metadata": {
    "collapsed": true
   },
   "outputs": [],
   "source": []
  }
 ],
 "metadata": {
  "kernelspec": {
   "display_name": "Python 2",
   "language": "python",
   "name": "python2"
  },
  "language_info": {
   "codemirror_mode": {
    "name": "ipython",
    "version": 2
   },
   "file_extension": ".py",
   "mimetype": "text/x-python",
   "name": "python",
   "nbconvert_exporter": "python",
   "pygments_lexer": "ipython2",
   "version": "2.7.5+"
  }
 },
 "nbformat": 4,
 "nbformat_minor": 0
}
